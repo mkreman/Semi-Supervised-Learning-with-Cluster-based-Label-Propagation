{
 "cells": [
  {
   "cell_type": "markdown",
   "id": "ea389389",
   "metadata": {
    "_cell_guid": "b1076dfc-b9ad-4769-8c92-a6c4dae69d19",
    "_uuid": "8f2839f25d086af736a60e9eeb907d3b93b6e0e5",
    "papermill": {
     "duration": 0.015275,
     "end_time": "2024-04-21T03:21:41.300411",
     "exception": false,
     "start_time": "2024-04-21T03:21:41.285136",
     "status": "completed"
    },
    "tags": []
   },
   "source": [
    "# **Experiments on fashion-mnist dataset**"
   ]
  },
  {
   "cell_type": "code",
   "execution_count": 1,
   "id": "64b986c3",
   "metadata": {
    "execution": {
     "iopub.execute_input": "2024-04-21T03:21:41.332762Z",
     "iopub.status.busy": "2024-04-21T03:21:41.332303Z",
     "iopub.status.idle": "2024-04-21T03:21:44.044659Z",
     "shell.execute_reply": "2024-04-21T03:21:44.043271Z"
    },
    "papermill": {
     "duration": 2.73241,
     "end_time": "2024-04-21T03:21:44.047699",
     "exception": false,
     "start_time": "2024-04-21T03:21:41.315289",
     "status": "completed"
    },
    "tags": []
   },
   "outputs": [],
   "source": [
    "import os\n",
    "import time \n",
    "import psutil\n",
    "import warnings\n",
    "import numpy as np\n",
    "import pandas as pd\n",
    "import matplotlib.pyplot as plt\n",
    "from sklearn.cluster import KMeans\n",
    "from sklearn.neural_network import MLPClassifier\n",
    "from sklearn.model_selection import GridSearchCV, train_test_split\n",
    "from sklearn.metrics import precision_recall_fscore_support\n",
    "\n",
    "warnings.filterwarnings(\"ignore\")\n",
    "process = psutil.Process(os.getpid())\n",
    "\n",
    "from sklearn.exceptions import ConvergenceWarning\n",
    "warnings.filterwarnings(\"ignore\", category=ConvergenceWarning)"
   ]
  },
  {
   "cell_type": "code",
   "execution_count": 2,
   "id": "a216135b",
   "metadata": {
    "execution": {
     "iopub.execute_input": "2024-04-21T03:21:44.080153Z",
     "iopub.status.busy": "2024-04-21T03:21:44.079465Z",
     "iopub.status.idle": "2024-04-21T03:21:51.726185Z",
     "shell.execute_reply": "2024-04-21T03:21:51.724855Z"
    },
    "papermill": {
     "duration": 7.666096,
     "end_time": "2024-04-21T03:21:51.729343",
     "exception": false,
     "start_time": "2024-04-21T03:21:44.063247",
     "status": "completed"
    },
    "tags": []
   },
   "outputs": [
    {
     "data": {
      "text/html": [
       "<div>\n",
       "<style scoped>\n",
       "    .dataframe tbody tr th:only-of-type {\n",
       "        vertical-align: middle;\n",
       "    }\n",
       "\n",
       "    .dataframe tbody tr th {\n",
       "        vertical-align: top;\n",
       "    }\n",
       "\n",
       "    .dataframe thead th {\n",
       "        text-align: right;\n",
       "    }\n",
       "</style>\n",
       "<table border=\"1\" class=\"dataframe\">\n",
       "  <thead>\n",
       "    <tr style=\"text-align: right;\">\n",
       "      <th></th>\n",
       "      <th>label</th>\n",
       "      <th>pixel1</th>\n",
       "      <th>pixel2</th>\n",
       "      <th>pixel3</th>\n",
       "      <th>pixel4</th>\n",
       "      <th>pixel5</th>\n",
       "      <th>pixel6</th>\n",
       "      <th>pixel7</th>\n",
       "      <th>pixel8</th>\n",
       "      <th>pixel9</th>\n",
       "      <th>...</th>\n",
       "      <th>pixel775</th>\n",
       "      <th>pixel776</th>\n",
       "      <th>pixel777</th>\n",
       "      <th>pixel778</th>\n",
       "      <th>pixel779</th>\n",
       "      <th>pixel780</th>\n",
       "      <th>pixel781</th>\n",
       "      <th>pixel782</th>\n",
       "      <th>pixel783</th>\n",
       "      <th>pixel784</th>\n",
       "    </tr>\n",
       "  </thead>\n",
       "  <tbody>\n",
       "    <tr>\n",
       "      <th>0</th>\n",
       "      <td>2</td>\n",
       "      <td>0</td>\n",
       "      <td>0</td>\n",
       "      <td>0</td>\n",
       "      <td>0</td>\n",
       "      <td>0</td>\n",
       "      <td>0</td>\n",
       "      <td>0</td>\n",
       "      <td>0</td>\n",
       "      <td>0</td>\n",
       "      <td>...</td>\n",
       "      <td>0</td>\n",
       "      <td>0</td>\n",
       "      <td>0</td>\n",
       "      <td>0</td>\n",
       "      <td>0</td>\n",
       "      <td>0</td>\n",
       "      <td>0</td>\n",
       "      <td>0</td>\n",
       "      <td>0</td>\n",
       "      <td>0</td>\n",
       "    </tr>\n",
       "    <tr>\n",
       "      <th>1</th>\n",
       "      <td>9</td>\n",
       "      <td>0</td>\n",
       "      <td>0</td>\n",
       "      <td>0</td>\n",
       "      <td>0</td>\n",
       "      <td>0</td>\n",
       "      <td>0</td>\n",
       "      <td>0</td>\n",
       "      <td>0</td>\n",
       "      <td>0</td>\n",
       "      <td>...</td>\n",
       "      <td>0</td>\n",
       "      <td>0</td>\n",
       "      <td>0</td>\n",
       "      <td>0</td>\n",
       "      <td>0</td>\n",
       "      <td>0</td>\n",
       "      <td>0</td>\n",
       "      <td>0</td>\n",
       "      <td>0</td>\n",
       "      <td>0</td>\n",
       "    </tr>\n",
       "    <tr>\n",
       "      <th>2</th>\n",
       "      <td>6</td>\n",
       "      <td>0</td>\n",
       "      <td>0</td>\n",
       "      <td>0</td>\n",
       "      <td>0</td>\n",
       "      <td>0</td>\n",
       "      <td>0</td>\n",
       "      <td>0</td>\n",
       "      <td>5</td>\n",
       "      <td>0</td>\n",
       "      <td>...</td>\n",
       "      <td>0</td>\n",
       "      <td>0</td>\n",
       "      <td>0</td>\n",
       "      <td>30</td>\n",
       "      <td>43</td>\n",
       "      <td>0</td>\n",
       "      <td>0</td>\n",
       "      <td>0</td>\n",
       "      <td>0</td>\n",
       "      <td>0</td>\n",
       "    </tr>\n",
       "    <tr>\n",
       "      <th>3</th>\n",
       "      <td>0</td>\n",
       "      <td>0</td>\n",
       "      <td>0</td>\n",
       "      <td>0</td>\n",
       "      <td>1</td>\n",
       "      <td>2</td>\n",
       "      <td>0</td>\n",
       "      <td>0</td>\n",
       "      <td>0</td>\n",
       "      <td>0</td>\n",
       "      <td>...</td>\n",
       "      <td>3</td>\n",
       "      <td>0</td>\n",
       "      <td>0</td>\n",
       "      <td>0</td>\n",
       "      <td>0</td>\n",
       "      <td>1</td>\n",
       "      <td>0</td>\n",
       "      <td>0</td>\n",
       "      <td>0</td>\n",
       "      <td>0</td>\n",
       "    </tr>\n",
       "    <tr>\n",
       "      <th>4</th>\n",
       "      <td>3</td>\n",
       "      <td>0</td>\n",
       "      <td>0</td>\n",
       "      <td>0</td>\n",
       "      <td>0</td>\n",
       "      <td>0</td>\n",
       "      <td>0</td>\n",
       "      <td>0</td>\n",
       "      <td>0</td>\n",
       "      <td>0</td>\n",
       "      <td>...</td>\n",
       "      <td>0</td>\n",
       "      <td>0</td>\n",
       "      <td>0</td>\n",
       "      <td>0</td>\n",
       "      <td>0</td>\n",
       "      <td>0</td>\n",
       "      <td>0</td>\n",
       "      <td>0</td>\n",
       "      <td>0</td>\n",
       "      <td>0</td>\n",
       "    </tr>\n",
       "  </tbody>\n",
       "</table>\n",
       "<p>5 rows × 785 columns</p>\n",
       "</div>"
      ],
      "text/plain": [
       "   label  pixel1  pixel2  pixel3  pixel4  pixel5  pixel6  pixel7  pixel8  \\\n",
       "0      2       0       0       0       0       0       0       0       0   \n",
       "1      9       0       0       0       0       0       0       0       0   \n",
       "2      6       0       0       0       0       0       0       0       5   \n",
       "3      0       0       0       0       1       2       0       0       0   \n",
       "4      3       0       0       0       0       0       0       0       0   \n",
       "\n",
       "   pixel9  ...  pixel775  pixel776  pixel777  pixel778  pixel779  pixel780  \\\n",
       "0       0  ...         0         0         0         0         0         0   \n",
       "1       0  ...         0         0         0         0         0         0   \n",
       "2       0  ...         0         0         0        30        43         0   \n",
       "3       0  ...         3         0         0         0         0         1   \n",
       "4       0  ...         0         0         0         0         0         0   \n",
       "\n",
       "   pixel781  pixel782  pixel783  pixel784  \n",
       "0         0         0         0         0  \n",
       "1         0         0         0         0  \n",
       "2         0         0         0         0  \n",
       "3         0         0         0         0  \n",
       "4         0         0         0         0  \n",
       "\n",
       "[5 rows x 785 columns]"
      ]
     },
     "execution_count": 2,
     "metadata": {},
     "output_type": "execute_result"
    }
   ],
   "source": [
    "train = pd.read_csv('./fashion-mnist_train.csv')\n",
    "train.head()"
   ]
  },
  {
   "cell_type": "code",
   "execution_count": 4,
   "id": "baa7a6fc",
   "metadata": {
    "execution": {
     "iopub.execute_input": "2024-04-21T03:21:51.765235Z",
     "iopub.status.busy": "2024-04-21T03:21:51.764730Z",
     "iopub.status.idle": "2024-04-21T03:21:52.956377Z",
     "shell.execute_reply": "2024-04-21T03:21:52.954980Z"
    },
    "papermill": {
     "duration": 1.21275,
     "end_time": "2024-04-21T03:21:52.959535",
     "exception": false,
     "start_time": "2024-04-21T03:21:51.746785",
     "status": "completed"
    },
    "tags": []
   },
   "outputs": [
    {
     "data": {
      "text/html": [
       "<div>\n",
       "<style scoped>\n",
       "    .dataframe tbody tr th:only-of-type {\n",
       "        vertical-align: middle;\n",
       "    }\n",
       "\n",
       "    .dataframe tbody tr th {\n",
       "        vertical-align: top;\n",
       "    }\n",
       "\n",
       "    .dataframe thead th {\n",
       "        text-align: right;\n",
       "    }\n",
       "</style>\n",
       "<table border=\"1\" class=\"dataframe\">\n",
       "  <thead>\n",
       "    <tr style=\"text-align: right;\">\n",
       "      <th></th>\n",
       "      <th>label</th>\n",
       "      <th>pixel1</th>\n",
       "      <th>pixel2</th>\n",
       "      <th>pixel3</th>\n",
       "      <th>pixel4</th>\n",
       "      <th>pixel5</th>\n",
       "      <th>pixel6</th>\n",
       "      <th>pixel7</th>\n",
       "      <th>pixel8</th>\n",
       "      <th>pixel9</th>\n",
       "      <th>...</th>\n",
       "      <th>pixel775</th>\n",
       "      <th>pixel776</th>\n",
       "      <th>pixel777</th>\n",
       "      <th>pixel778</th>\n",
       "      <th>pixel779</th>\n",
       "      <th>pixel780</th>\n",
       "      <th>pixel781</th>\n",
       "      <th>pixel782</th>\n",
       "      <th>pixel783</th>\n",
       "      <th>pixel784</th>\n",
       "    </tr>\n",
       "  </thead>\n",
       "  <tbody>\n",
       "    <tr>\n",
       "      <th>0</th>\n",
       "      <td>0</td>\n",
       "      <td>0</td>\n",
       "      <td>0</td>\n",
       "      <td>0</td>\n",
       "      <td>0</td>\n",
       "      <td>0</td>\n",
       "      <td>0</td>\n",
       "      <td>0</td>\n",
       "      <td>9</td>\n",
       "      <td>8</td>\n",
       "      <td>...</td>\n",
       "      <td>103</td>\n",
       "      <td>87</td>\n",
       "      <td>56</td>\n",
       "      <td>0</td>\n",
       "      <td>0</td>\n",
       "      <td>0</td>\n",
       "      <td>0</td>\n",
       "      <td>0</td>\n",
       "      <td>0</td>\n",
       "      <td>0</td>\n",
       "    </tr>\n",
       "    <tr>\n",
       "      <th>1</th>\n",
       "      <td>1</td>\n",
       "      <td>0</td>\n",
       "      <td>0</td>\n",
       "      <td>0</td>\n",
       "      <td>0</td>\n",
       "      <td>0</td>\n",
       "      <td>0</td>\n",
       "      <td>0</td>\n",
       "      <td>0</td>\n",
       "      <td>0</td>\n",
       "      <td>...</td>\n",
       "      <td>34</td>\n",
       "      <td>0</td>\n",
       "      <td>0</td>\n",
       "      <td>0</td>\n",
       "      <td>0</td>\n",
       "      <td>0</td>\n",
       "      <td>0</td>\n",
       "      <td>0</td>\n",
       "      <td>0</td>\n",
       "      <td>0</td>\n",
       "    </tr>\n",
       "    <tr>\n",
       "      <th>2</th>\n",
       "      <td>2</td>\n",
       "      <td>0</td>\n",
       "      <td>0</td>\n",
       "      <td>0</td>\n",
       "      <td>0</td>\n",
       "      <td>0</td>\n",
       "      <td>0</td>\n",
       "      <td>14</td>\n",
       "      <td>53</td>\n",
       "      <td>99</td>\n",
       "      <td>...</td>\n",
       "      <td>0</td>\n",
       "      <td>0</td>\n",
       "      <td>0</td>\n",
       "      <td>0</td>\n",
       "      <td>63</td>\n",
       "      <td>53</td>\n",
       "      <td>31</td>\n",
       "      <td>0</td>\n",
       "      <td>0</td>\n",
       "      <td>0</td>\n",
       "    </tr>\n",
       "    <tr>\n",
       "      <th>3</th>\n",
       "      <td>2</td>\n",
       "      <td>0</td>\n",
       "      <td>0</td>\n",
       "      <td>0</td>\n",
       "      <td>0</td>\n",
       "      <td>0</td>\n",
       "      <td>0</td>\n",
       "      <td>0</td>\n",
       "      <td>0</td>\n",
       "      <td>0</td>\n",
       "      <td>...</td>\n",
       "      <td>137</td>\n",
       "      <td>126</td>\n",
       "      <td>140</td>\n",
       "      <td>0</td>\n",
       "      <td>133</td>\n",
       "      <td>224</td>\n",
       "      <td>222</td>\n",
       "      <td>56</td>\n",
       "      <td>0</td>\n",
       "      <td>0</td>\n",
       "    </tr>\n",
       "    <tr>\n",
       "      <th>4</th>\n",
       "      <td>3</td>\n",
       "      <td>0</td>\n",
       "      <td>0</td>\n",
       "      <td>0</td>\n",
       "      <td>0</td>\n",
       "      <td>0</td>\n",
       "      <td>0</td>\n",
       "      <td>0</td>\n",
       "      <td>0</td>\n",
       "      <td>0</td>\n",
       "      <td>...</td>\n",
       "      <td>0</td>\n",
       "      <td>0</td>\n",
       "      <td>0</td>\n",
       "      <td>0</td>\n",
       "      <td>0</td>\n",
       "      <td>0</td>\n",
       "      <td>0</td>\n",
       "      <td>0</td>\n",
       "      <td>0</td>\n",
       "      <td>0</td>\n",
       "    </tr>\n",
       "  </tbody>\n",
       "</table>\n",
       "<p>5 rows × 785 columns</p>\n",
       "</div>"
      ],
      "text/plain": [
       "   label  pixel1  pixel2  pixel3  pixel4  pixel5  pixel6  pixel7  pixel8  \\\n",
       "0      0       0       0       0       0       0       0       0       9   \n",
       "1      1       0       0       0       0       0       0       0       0   \n",
       "2      2       0       0       0       0       0       0      14      53   \n",
       "3      2       0       0       0       0       0       0       0       0   \n",
       "4      3       0       0       0       0       0       0       0       0   \n",
       "\n",
       "   pixel9  ...  pixel775  pixel776  pixel777  pixel778  pixel779  pixel780  \\\n",
       "0       8  ...       103        87        56         0         0         0   \n",
       "1       0  ...        34         0         0         0         0         0   \n",
       "2      99  ...         0         0         0         0        63        53   \n",
       "3       0  ...       137       126       140         0       133       224   \n",
       "4       0  ...         0         0         0         0         0         0   \n",
       "\n",
       "   pixel781  pixel782  pixel783  pixel784  \n",
       "0         0         0         0         0  \n",
       "1         0         0         0         0  \n",
       "2        31         0         0         0  \n",
       "3       222        56         0         0  \n",
       "4         0         0         0         0  \n",
       "\n",
       "[5 rows x 785 columns]"
      ]
     },
     "execution_count": 4,
     "metadata": {},
     "output_type": "execute_result"
    }
   ],
   "source": [
    "test = pd.read_csv('./fashion-mnist_test.csv')\n",
    "test.head()"
   ]
  },
  {
   "cell_type": "code",
   "execution_count": 5,
   "id": "029dcf6b",
   "metadata": {
    "execution": {
     "iopub.execute_input": "2024-04-21T03:21:52.993705Z",
     "iopub.status.busy": "2024-04-21T03:21:52.993237Z",
     "iopub.status.idle": "2024-04-21T03:21:53.311245Z",
     "shell.execute_reply": "2024-04-21T03:21:53.309849Z"
    },
    "papermill": {
     "duration": 0.338699,
     "end_time": "2024-04-21T03:21:53.313996",
     "exception": false,
     "start_time": "2024-04-21T03:21:52.975297",
     "status": "completed"
    },
    "tags": []
   },
   "outputs": [
    {
     "data": {
      "text/plain": [
       "((60000, 784), (60000,))"
      ]
     },
     "execution_count": 5,
     "metadata": {},
     "output_type": "execute_result"
    }
   ],
   "source": [
    "x_train, y_train = train.drop('label', axis=1)/255, train.label\n",
    "x_train.shape, y_train.shape"
   ]
  },
  {
   "cell_type": "code",
   "execution_count": 6,
   "id": "7a581fe7",
   "metadata": {
    "execution": {
     "iopub.execute_input": "2024-04-21T03:21:53.349232Z",
     "iopub.status.busy": "2024-04-21T03:21:53.348006Z",
     "iopub.status.idle": "2024-04-21T03:21:53.404364Z",
     "shell.execute_reply": "2024-04-21T03:21:53.403334Z"
    },
    "papermill": {
     "duration": 0.07714,
     "end_time": "2024-04-21T03:21:53.407455",
     "exception": false,
     "start_time": "2024-04-21T03:21:53.330315",
     "status": "completed"
    },
    "tags": []
   },
   "outputs": [
    {
     "data": {
      "text/plain": [
       "((10000, 784), (10000,))"
      ]
     },
     "execution_count": 6,
     "metadata": {},
     "output_type": "execute_result"
    }
   ],
   "source": [
    "x_test, y_test = test.drop('label', axis=1)/255, test.label\n",
    "x_test.shape, y_test.shape"
   ]
  },
  {
   "cell_type": "code",
   "execution_count": 7,
   "id": "7123893e",
   "metadata": {
    "execution": {
     "iopub.execute_input": "2024-04-21T03:21:53.442633Z",
     "iopub.status.busy": "2024-04-21T03:21:53.441955Z",
     "iopub.status.idle": "2024-04-21T03:21:53.456385Z",
     "shell.execute_reply": "2024-04-21T03:21:53.455221Z"
    },
    "papermill": {
     "duration": 0.035683,
     "end_time": "2024-04-21T03:21:53.459385",
     "exception": false,
     "start_time": "2024-04-21T03:21:53.423702",
     "status": "completed"
    },
    "tags": []
   },
   "outputs": [
    {
     "data": {
      "text/plain": [
       "((60000, 10), (10000, 10))"
      ]
     },
     "execution_count": 7,
     "metadata": {},
     "output_type": "execute_result"
    }
   ],
   "source": [
    "# Creating OneHot Vector\n",
    "classes = np.unique(y_train)\n",
    "y_train_onehot = np.eye(len(classes))[y_train]\n",
    "y_test_onehot = np.eye(len(classes))[y_test]\n",
    "y_train_onehot.shape, y_test_onehot.shape"
   ]
  },
  {
   "cell_type": "code",
   "execution_count": 12,
   "id": "9b7a5db1",
   "metadata": {
    "execution": {
     "iopub.execute_input": "2024-04-21T03:21:53.495501Z",
     "iopub.status.busy": "2024-04-21T03:21:53.494708Z",
     "iopub.status.idle": "2024-04-21T03:21:54.246575Z",
     "shell.execute_reply": "2024-04-21T03:21:54.245275Z"
    },
    "papermill": {
     "duration": 0.77327,
     "end_time": "2024-04-21T03:21:54.249547",
     "exception": false,
     "start_time": "2024-04-21T03:21:53.476277",
     "status": "completed"
    },
    "tags": []
   },
   "outputs": [
    {
     "data": {
      "image/png": "[encoded data removed]",
      "text/plain": [
       "<Figure size 700x200 with 10 Axes>"
      ]
     },
     "metadata": {},
     "output_type": "display_data"
    }
   ],
   "source": [
    "# Plotting the dataset images\n",
    "Y = np.unique(y_train)\n",
    "labels = ['T-shirt/top', 'Trouser', 'Pullover', 'Dress', 'Coat', 'Sandal',\n",
    "          'Shirt', 'Sneaker', 'Bag', 'Ankle boot']\n",
    "\n",
    "# Getting one image from each class\n",
    "imgs = np.array([x_train.loc[np.where(y_train == n)[0][0], :] for n in Y])\n",
    "plt.figure(figsize=(7, 2))\n",
    "for i in range(len(Y)):\n",
    "    plt.subplot(2, 5, i + 1)\n",
    "    plt.imshow(imgs[i, :].reshape(28, 28), cmap='gray')\n",
    "    # Set the title as the corresponding label\n",
    "    plt.title(labels[i])\n",
    "    # Remove axis ticks\n",
    "    plt.axis('off')\n",
    "# Adjust layout\n",
    "plt.tight_layout()\n",
    "plt.show()"
   ]
  },
  {
   "cell_type": "markdown",
   "id": "5cfc7061",
   "metadata": {
    "papermill": {
     "duration": 0.016222,
     "end_time": "2024-04-21T03:21:54.283189",
     "exception": false,
     "start_time": "2024-04-21T03:21:54.266967",
     "status": "completed"
    },
    "tags": []
   },
   "source": [
    "# Training the MLP on the whole dataset\n"
   ]
  },
  {
   "cell_type": "code",
   "execution_count": 8,
   "id": "c124887f",
   "metadata": {
    "execution": {
     "iopub.execute_input": "2024-04-21T03:21:54.321033Z",
     "iopub.status.busy": "2024-04-21T03:21:54.320592Z",
     "iopub.status.idle": "2024-04-21T03:21:54.708973Z",
     "shell.execute_reply": "2024-04-21T03:21:54.707595Z"
    },
    "papermill": {
     "duration": 0.411106,
     "end_time": "2024-04-21T03:21:54.711885",
     "exception": false,
     "start_time": "2024-04-21T03:21:54.300779",
     "status": "completed"
    },
    "tags": []
   },
   "outputs": [
    {
     "data": {
      "text/plain": [
       "((18000, 784), (18000, 10))"
      ]
     },
     "execution_count": 8,
     "metadata": {},
     "output_type": "execute_result"
    }
   ],
   "source": [
    "# Taking a Sample for hyperparameter tuning\n",
    "_, x_train_sample, _, y_train_sample = train_test_split(x_train,\n",
    "                                                        y_train,\n",
    "                                                        test_size=0.3,\n",
    "                                                        stratify=y_train,\n",
    "                                                        shuffle=True,\n",
    "                                                        random_state=42)\n",
    "y_train_sample_onehot = np.eye(len(classes))[y_train_sample]\n",
    "x_train_sample.shape, y_train_sample_onehot.shape"
   ]
  },
  {
   "cell_type": "code",
   "execution_count": null,
   "id": "25f70ece",
   "metadata": {
    "execution": {
     "iopub.execute_input": "2024-04-21T03:21:54.748066Z",
     "iopub.status.busy": "2024-04-21T03:21:54.747662Z",
     "iopub.status.idle": "2024-04-21T05:57:19.014898Z",
     "shell.execute_reply": "2024-04-21T05:57:19.012688Z"
    },
    "papermill": {
     "duration": 9324.29152,
     "end_time": "2024-04-21T05:57:19.020494",
     "exception": false,
     "start_time": "2024-04-21T03:21:54.728974",
     "status": "completed"
    },
    "tags": []
   },
   "outputs": [],
   "source": [
    "# Variables to track the time and memory used by the model\n",
    "s = time.time()\n",
    "memBS = process.memory_info().rss\n",
    "\n",
    "# Hyper Parameters to tune\n",
    "param_grid = {\n",
    "    'hidden_layer_sizes': [(256,256,128,128,64,64),\n",
    "                           (256,256,128,128,64,64,64),\n",
    "                           (256,256,128,128,128,64,64,64),\n",
    "                           (256,256,256,128,128,128,64,64,64)],\n",
    "    'activation': ['logistic', 'tanh', 'relu'],\n",
    "    'max_iter': [100,120,150,180],\n",
    "}\n",
    "\n",
    "# Hyper-Parameter tunning using GridSearchCV\n",
    "mlp = MLPClassifier(random_state = 42, early_stopping=False)\n",
    "mlp_grid = GridSearchCV(estimator=mlp, param_grid=param_grid, n_jobs=-1, cv=3, scoring='accuracy')\n",
    "mlp_grid.fit(x_train_sample, y_train_sample_onehot)\n",
    "\n",
    "# Variables to track the time and memory used by the model\n",
    "e = time.time()\n",
    "memAF = process.memory_info().rss"
   ]
  },
  {
   "cell_type": "code",
   "execution_count": 10,
   "id": "8f335639",
   "metadata": {
    "execution": {
     "iopub.execute_input": "2024-04-21T05:57:19.112528Z",
     "iopub.status.busy": "2024-04-21T05:57:19.110530Z",
     "iopub.status.idle": "2024-04-21T05:57:19.123946Z",
     "shell.execute_reply": "2024-04-21T05:57:19.122217Z"
    },
    "papermill": {
     "duration": 0.062439,
     "end_time": "2024-04-21T05:57:19.127574",
     "exception": false,
     "start_time": "2024-04-21T05:57:19.065135",
     "status": "completed"
    },
    "tags": []
   },
   "outputs": [
    {
     "name": "stdout",
     "output_type": "stream",
     "text": [
      "Time taken in training: 9324.26 sec\n",
      "Memory taken in training: 19072.0 MB\n"
     ]
    },
    {
     "data": {
      "text/plain": [
       "{'activation': 'relu',\n",
       " 'hidden_layer_sizes': (256, 256, 128, 128, 128, 64, 64, 64),\n",
       " 'max_iter': 150}"
      ]
     },
     "execution_count": 10,
     "metadata": {},
     "output_type": "execute_result"
    }
   ],
   "source": [
    "# Printing time, memory taken by the model\n",
    "print(f\"Time taken in training: {round(e-s, 2)} sec\")\n",
    "print(f\"Memory taken in training: {round((memAF-memBS)/1024, 2)} MB\")\n",
    "mlp_grid.best_params_"
   ]
  },
  {
   "cell_type": "code",
   "execution_count": 17,
   "id": "97ee1e60",
   "metadata": {
    "execution": {
     "iopub.execute_input": "2024-04-21T05:57:19.170687Z",
     "iopub.status.busy": "2024-04-21T05:57:19.169732Z",
     "iopub.status.idle": "2024-04-21T06:30:24.756072Z",
     "shell.execute_reply": "2024-04-21T06:30:24.754506Z"
    },
    "papermill": {
     "duration": 1985.613019,
     "end_time": "2024-04-21T06:30:24.760911",
     "exception": false,
     "start_time": "2024-04-21T05:57:19.147892",
     "status": "completed"
    },
    "tags": []
   },
   "outputs": [
    {
     "name": "stdout",
     "output_type": "stream",
     "text": [
      "Time taken in training: 1981.79 sec\n",
      "Memory taken in training: 28274.9 MB\n",
      "Accuracy on testing dataset: 90.07%\n"
     ]
    }
   ],
   "source": [
    "# Training the MLP model on the whole dataset on the optimized parameters \n",
    "s = time.time()\n",
    "memBS = process.memory_info().rss\n",
    "\n",
    "mlp_wd = MLPClassifier(random_state = 42, early_stopping=False, **mlp_grid.best_params_)\n",
    "mlp_wd.fit(x_train, y_train_onehot)\n",
    "\n",
    "e = time.time()\n",
    "memAF = process.memory_info().rss\n",
    "\n",
    "# Printing time, memory taken by the model and accuracy on the test data\n",
    "print(f\"Time taken in training: {round(e-s, 2)} sec\")\n",
    "print(f\"Memory taken in training: {round((memAF-memBS)/1024, 2)} MB\")\n",
    "print(f\"Accuracy on testing dataset: {mlp_wd.score(x_test, y_test_onehot)*100:.2f}%\")"
   ]
  },
  {
   "cell_type": "code",
   "execution_count": 12,
   "id": "f43ceefe",
   "metadata": {
    "execution": {
     "iopub.execute_input": "2024-04-21T06:30:24.852428Z",
     "iopub.status.busy": "2024-04-21T06:30:24.850218Z",
     "iopub.status.idle": "2024-04-21T06:30:26.565055Z",
     "shell.execute_reply": "2024-04-21T06:30:26.563798Z"
    },
    "papermill": {
     "duration": 1.764835,
     "end_time": "2024-04-21T06:30:26.570310",
     "exception": false,
     "start_time": "2024-04-21T06:30:24.805475",
     "status": "completed"
    },
    "tags": []
   },
   "outputs": [
    {
     "name": "stdout",
     "output_type": "stream",
     "text": [
      "Metrics for each class:\n",
      "   Precision  Recall  F1 Score  Support\n",
      "0   0.841851   0.873  0.857143     1000\n",
      "1   0.986948   0.983  0.984970     1000\n",
      "2   0.851129   0.829  0.839919     1000\n",
      "3   0.903960   0.913  0.908458     1000\n",
      "4   0.842315   0.844  0.843157     1000\n",
      "5   0.987355   0.937  0.961519     1000\n",
      "6   0.767051   0.731  0.748592     1000\n",
      "7   0.927815   0.964  0.945562     1000\n",
      "8   0.972305   0.983  0.977623     1000\n",
      "9   0.949355   0.956  0.952666     1000\n"
     ]
    }
   ],
   "source": [
    "# Predicting on the test data\n",
    "y_pred = mlp_wd.predict(x_test)\n",
    "\n",
    "# Calculate precision, recall, and F1 score for each class\n",
    "precision, recall, f1_score, support = precision_recall_fscore_support(y_test_onehot, y_pred)\n",
    "results_df = pd.DataFrame({'Precision': precision,\n",
    "                           'Recall': recall,\n",
    "                           'F1 Score': f1_score,\n",
    "                           'Support': support},\n",
    "                          index=range(len(precision)))\n",
    "\n",
    "print(\"Metrics for each class:\")\n",
    "print(results_df)"
   ]
  },
  {
   "cell_type": "markdown",
   "id": "50214fee",
   "metadata": {
    "papermill": {
     "duration": 0.030073,
     "end_time": "2024-04-21T06:30:26.642667",
     "exception": false,
     "start_time": "2024-04-21T06:30:26.612594",
     "status": "completed"
    },
    "tags": []
   },
   "source": [
    "# Taking random sample of 300 example\n"
   ]
  },
  {
   "cell_type": "code",
   "execution_count": 13,
   "id": "337de0f8",
   "metadata": {
    "execution": {
     "iopub.execute_input": "2024-04-21T06:30:26.684743Z",
     "iopub.status.busy": "2024-04-21T06:30:26.684268Z",
     "iopub.status.idle": "2024-04-21T06:30:27.082396Z",
     "shell.execute_reply": "2024-04-21T06:30:27.081139Z"
    },
    "papermill": {
     "duration": 0.422506,
     "end_time": "2024-04-21T06:30:27.085236",
     "exception": false,
     "start_time": "2024-04-21T06:30:26.662730",
     "status": "completed"
    },
    "tags": []
   },
   "outputs": [
    {
     "data": {
      "text/plain": [
       "((300, 784), (300,))"
      ]
     },
     "execution_count": 13,
     "metadata": {},
     "output_type": "execute_result"
    }
   ],
   "source": [
    "# Taking 300 examples for training\n",
    "_, x_train_300, _, y_train_300 = train_test_split(x_train, y_train, test_size=300, stratify=y_train, random_state=0)\n",
    "x_train_300.shape, y_train_300.shape"
   ]
  },
  {
   "cell_type": "code",
   "execution_count": 14,
   "id": "f02f2329",
   "metadata": {
    "execution": {
     "iopub.execute_input": "2024-04-21T06:30:27.129263Z",
     "iopub.status.busy": "2024-04-21T06:30:27.128315Z",
     "iopub.status.idle": "2024-04-21T06:30:27.135041Z",
     "shell.execute_reply": "2024-04-21T06:30:27.134249Z"
    },
    "papermill": {
     "duration": 0.031805,
     "end_time": "2024-04-21T06:30:27.137256",
     "exception": false,
     "start_time": "2024-04-21T06:30:27.105451",
     "status": "completed"
    },
    "tags": []
   },
   "outputs": [
    {
     "data": {
      "text/plain": [
       "(300, 10)"
      ]
     },
     "execution_count": 14,
     "metadata": {},
     "output_type": "execute_result"
    }
   ],
   "source": [
    "# Changing into onehot vector\n",
    "y_train_300_onehot = np.eye(len(classes))[y_train_300]\n",
    "y_train_300_onehot.shape"
   ]
  },
  {
   "cell_type": "code",
   "execution_count": null,
   "id": "cefa0b9c",
   "metadata": {
    "execution": {
     "iopub.execute_input": "2024-04-21T06:30:27.181347Z",
     "iopub.status.busy": "2024-04-21T06:30:27.180353Z",
     "iopub.status.idle": "2024-04-21T06:42:57.886711Z",
     "shell.execute_reply": "2024-04-21T06:42:57.884475Z"
    },
    "papermill": {
     "duration": 750.733946,
     "end_time": "2024-04-21T06:42:57.891554",
     "exception": false,
     "start_time": "2024-04-21T06:30:27.157608",
     "status": "completed"
    },
    "tags": []
   },
   "outputs": [],
   "source": [
    "# Variables to track the time and memory used by the model\n",
    "s = time.time()\n",
    "memBS = process.memory_info().rss\n",
    "\n",
    "# Hyper Parameters to tune\n",
    "param_grid = {\n",
    "    'hidden_layer_sizes': [\n",
    "        (256,256,128,128,64),\n",
    "        (256,256,128,128,64,64),\n",
    "        (256,256,128,128,64,64,64)\n",
    "    ],\n",
    "    'activation': ['logistic', 'tanh', 'relu'],\n",
    "    'learning_rate': ['constant', 'invscaling', 'adaptive'],\n",
    "    'max_iter': [150,180,200,220,240],\n",
    "}\n",
    "\n",
    "# Hyper-Parameter tunning using GridSearchCV\n",
    "mlp = MLPClassifier(random_state = 42, early_stopping=False)\n",
    "mlp_grid_300 = GridSearchCV(estimator=mlp, param_grid=param_grid, n_jobs=-1, cv=3, scoring='accuracy')\n",
    "mlp_grid_300.fit(x_train_300.values, y_train_300_onehot)\n",
    "\n",
    "# Variables to track the time and memory used by the model\n",
    "e = time.time()\n",
    "memAF = process.memory_info().rss"
   ]
  },
  {
   "cell_type": "code",
   "execution_count": 13,
   "id": "714c9a5c",
   "metadata": {
    "execution": {
     "iopub.execute_input": "2024-04-21T06:42:58.019406Z",
     "iopub.status.busy": "2024-04-21T06:42:58.018900Z",
     "iopub.status.idle": "2024-04-21T06:42:59.018351Z",
     "shell.execute_reply": "2024-04-21T06:42:59.017069Z"
    },
    "papermill": {
     "duration": 1.053422,
     "end_time": "2024-04-21T06:42:59.022793",
     "exception": false,
     "start_time": "2024-04-21T06:42:57.969371",
     "status": "completed"
    },
    "tags": []
   },
   "outputs": [
    {
     "name": "stdout",
     "output_type": "stream",
     "text": [
      "Time taken in training: 750.69 sec\n",
      "Memory taken in training: 280.0 MB\n",
      "Accuracy on testing dataset: 72.78%\n"
     ]
    },
    {
     "data": {
      "text/plain": [
       "{'activation': 'tanh',\n",
       " 'hidden_layer_sizes': (256, 256, 128, 128, 64, 64),\n",
       " 'learning_rate': 'constant',\n",
       " 'max_iter': 220}"
      ]
     },
     "execution_count": 13,
     "metadata": {},
     "output_type": "execute_result"
    }
   ],
   "source": [
    "# Printing time, memory taken by the model and accuracy on the test data\n",
    "print(f\"Time taken in training: {round(e-s, 2)} sec\")\n",
    "print(f\"Memory taken in training: {round((memAF-memBS)/1024, 2)} MB\")\n",
    "print(f\"Accuracy on testing dataset: {mlp_grid_20.score(x_test.values, y_test_onehot)*100:.2f}%\")\n",
    "mlp_grid_20.best_params_"
   ]
  },
  {
   "cell_type": "code",
   "execution_count": 17,
   "id": "e65b2797",
   "metadata": {
    "execution": {
     "iopub.execute_input": "2024-04-21T06:42:59.142660Z",
     "iopub.status.busy": "2024-04-21T06:42:59.142241Z",
     "iopub.status.idle": "2024-04-21T06:43:00.137718Z",
     "shell.execute_reply": "2024-04-21T06:43:00.136472Z"
    },
    "papermill": {
     "duration": 1.040207,
     "end_time": "2024-04-21T06:43:00.144258",
     "exception": false,
     "start_time": "2024-04-21T06:42:59.104051",
     "status": "completed"
    },
    "tags": []
   },
   "outputs": [
    {
     "name": "stdout",
     "output_type": "stream",
     "text": [
      "Metrics for each class:\n",
      "   Precision  Recall  F1 Score  Support\n",
      "0   0.787611   0.712  0.747899     1000\n",
      "1   0.953299   0.939  0.946096     1000\n",
      "2   0.680124   0.657  0.668362     1000\n",
      "3   0.768293   0.819  0.792836     1000\n",
      "4   0.714467   0.563  0.629754     1000\n",
      "5   0.921123   0.689  0.788330     1000\n",
      "6   0.575650   0.487  0.527627     1000\n",
      "7   0.807729   0.836  0.821622     1000\n",
      "8   0.945493   0.902  0.923234     1000\n",
      "9   0.860835   0.866  0.863410     1000\n"
     ]
    }
   ],
   "source": [
    "# Predicting on the test data\n",
    "y_pred = mlp_grid_20.predict(x_test)\n",
    "\n",
    "# Calculate precision, recall, and F1 score for each class\n",
    "precision, recall, f1_score, support = precision_recall_fscore_support(y_test_onehot, y_pred)\n",
    "results_df = pd.DataFrame({'Precision': precision,\n",
    "                           'Recall': recall,\n",
    "                           'F1 Score': f1_score,\n",
    "                           'Support': support},\n",
    "                          index=range(len(precision)))\n",
    "\n",
    "print(\"Metrics for each class:\")\n",
    "print(results_df)"
   ]
  },
  {
   "cell_type": "markdown",
   "id": "f32fe9be",
   "metadata": {
    "papermill": {
     "duration": 0.034957,
     "end_time": "2024-04-21T06:43:00.246799",
     "exception": false,
     "start_time": "2024-04-21T06:43:00.211842",
     "status": "completed"
    },
    "tags": []
   },
   "source": [
    "# Clustering the images into 300 clusters\n"
   ]
  },
  {
   "cell_type": "code",
   "execution_count": 18,
   "id": "2acc68ec",
   "metadata": {
    "execution": {
     "iopub.execute_input": "2024-04-21T06:43:00.320960Z",
     "iopub.status.busy": "2024-04-21T06:43:00.320495Z",
     "iopub.status.idle": "2024-04-21T06:54:09.428765Z",
     "shell.execute_reply": "2024-04-21T06:54:09.427387Z"
    },
    "papermill": {
     "duration": 669.185302,
     "end_time": "2024-04-21T06:54:09.467954",
     "exception": false,
     "start_time": "2024-04-21T06:43:00.282652",
     "status": "completed"
    },
    "tags": []
   },
   "outputs": [
    {
     "data": {
      "text/plain": [
       "((60000, 300), (60000,))"
      ]
     },
     "execution_count": 18,
     "metadata": {},
     "output_type": "execute_result"
    }
   ],
   "source": [
    "# Clustering the x_train images \n",
    "n_clusters = 300\n",
    "kmean = KMeans(n_clusters=n_clusters, n_init=10, random_state=42)\n",
    "distances = kmean.fit_transform(x_train.values)\n",
    "\n",
    "# distance from images to their centroid and their labels\n",
    "distances.shape, kmean.labels_.shape"
   ]
  },
  {
   "cell_type": "code",
   "execution_count": 19,
   "id": "ad2f2a28",
   "metadata": {
    "execution": {
     "iopub.execute_input": "2024-04-21T06:54:09.541032Z",
     "iopub.status.busy": "2024-04-21T06:54:09.540564Z",
     "iopub.status.idle": "2024-04-21T06:54:16.277470Z",
     "shell.execute_reply": "2024-04-21T06:54:16.276005Z"
    },
    "papermill": {
     "duration": 6.777315,
     "end_time": "2024-04-21T06:54:16.280659",
     "exception": false,
     "start_time": "2024-04-21T06:54:09.503344",
     "status": "completed"
    },
    "tags": []
   },
   "outputs": [
    {
     "data": {
      "text/plain": [
       "(300, 300)"
      ]
     },
     "execution_count": 19,
     "metadata": {},
     "output_type": "execute_result"
    }
   ],
   "source": [
    "# Finding the nearest image to each centroid\n",
    "x_train_clust = []\n",
    "y_train_clust = []\n",
    "for n in range(n_clusters):\n",
    "    images_dist = []\n",
    "    # Getting the indices of images for centroid n\n",
    "    image_inds = np.where(kmean.labels_ == n)[0]\n",
    "    for i in image_inds:\n",
    "        image = x_train.loc[i, :]\n",
    "        label = y_train.loc[i]\n",
    "        dist = distances[i, n]\n",
    "        images_dist.append((image, label, dist))\n",
    "    \n",
    "    # Sorting the images_dist list respect to 'dist'\n",
    "    images_dist.sort(key=lambda x: x[2])\n",
    "    #  After sorting the first image is nearest to centroid\n",
    "    # Therefore, we'll take its label\n",
    "    y_train_clust.append(images_dist[0][1])\n",
    "    \n",
    "    images = [img.values for img, _, _ in images_dist]\n",
    "    x_train_clust.append(np.array(images))\n",
    "    \n",
    "len(x_train_clust), len(y_train_clust)"
   ]
  },
  {
   "cell_type": "markdown",
   "id": "25522ff9",
   "metadata": {
    "papermill": {
     "duration": 0.037601,
     "end_time": "2024-04-21T06:54:16.354225",
     "exception": false,
     "start_time": "2024-04-21T06:54:16.316624",
     "status": "completed"
    },
    "tags": []
   },
   "source": [
    "## Take single image which is near to the centroid from each cluster\n"
   ]
  },
  {
   "cell_type": "code",
   "execution_count": 20,
   "id": "4178d95c",
   "metadata": {
    "execution": {
     "iopub.execute_input": "2024-04-21T06:54:16.428593Z",
     "iopub.status.busy": "2024-04-21T06:54:16.428076Z",
     "iopub.status.idle": "2024-04-21T06:54:16.441612Z",
     "shell.execute_reply": "2024-04-21T06:54:16.440434Z"
    },
    "papermill": {
     "duration": 0.053634,
     "end_time": "2024-04-21T06:54:16.444151",
     "exception": false,
     "start_time": "2024-04-21T06:54:16.390517",
     "status": "completed"
    },
    "tags": []
   },
   "outputs": [
    {
     "data": {
      "text/plain": [
       "((300, 784), (300, 10))"
      ]
     },
     "execution_count": 20,
     "metadata": {},
     "output_type": "execute_result"
    }
   ],
   "source": [
    "# Taking image which is nearest to the centroid and its label as training example for each cluster\n",
    "x_train_clust_1 = np.array([x_train_clust[i][0, :] for i in range(n_clusters)])\n",
    "y_train_clust_1 = np.array(y_train_clust)\n",
    "\n",
    "# Changing into onehot vector\n",
    "y_train_clust_1_onehot = np.eye(len(classes))[y_train_clust_1]\n",
    "x_train_clust_1.shape, y_train_clust_1_onehot.shape"
   ]
  },
  {
   "cell_type": "code",
   "execution_count": null,
   "id": "d13ddd9c",
   "metadata": {
    "collapsed": true,
    "execution": {
     "iopub.execute_input": "2024-04-21T06:54:16.518128Z",
     "iopub.status.busy": "2024-04-21T06:54:16.517362Z",
     "iopub.status.idle": "2024-04-21T07:08:53.891224Z",
     "shell.execute_reply": "2024-04-21T07:08:53.889144Z"
    },
    "jupyter": {
     "outputs_hidden": true
    },
    "papermill": {
     "duration": 877.416771,
     "end_time": "2024-04-21T07:08:53.896678",
     "exception": false,
     "start_time": "2024-04-21T06:54:16.479907",
     "status": "completed"
    },
    "tags": []
   },
   "outputs": [],
   "source": [
    "# Variables to track the time and memory used by the model\n",
    "s = time.time()\n",
    "memBS = process.memory_info().rss\n",
    "\n",
    "# Hyper Parameters to tune\n",
    "param_grid = {\n",
    "    'hidden_layer_sizes': [(256,128,128),\n",
    "                           (256,256,128,128),\n",
    "                           (256,256,128,128,64,64),\n",
    "                           (256,256,128,128,64,64,64)],\n",
    "    'activation': ['logistic', 'tanh', 'relu'],\n",
    "    'learning_rate': ['constant', 'invscaling', 'adaptive'],\n",
    "    'max_iter': [150,180,200,220,240]\n",
    "}\n",
    "\n",
    "# Hyper-Parameter tunning using GridSearchCV\n",
    "mlp = MLPClassifier(random_state = 42, early_stopping=False)\n",
    "mlp_clust_1 = GridSearchCV(estimator=mlp, param_grid=param_grid, n_jobs=-1, cv=3, scoring='accuracy')\n",
    "mlp_clust_1.fit(x_train_clust_1, y_train_clust_1_onehot)\n",
    "\n",
    "# Variables to track the time and memory used by the model\n",
    "e = time.time()\n",
    "memAF = process.memory_info().rss"
   ]
  },
  {
   "cell_type": "code",
   "execution_count": 22,
   "id": "940caa2c",
   "metadata": {
    "execution": {
     "iopub.execute_input": "2024-04-21T07:08:54.070537Z",
     "iopub.status.busy": "2024-04-21T07:08:54.070058Z",
     "iopub.status.idle": "2024-04-21T07:08:54.081086Z",
     "shell.execute_reply": "2024-04-21T07:08:54.079445Z"
    },
    "papermill": {
     "duration": 0.07598,
     "end_time": "2024-04-21T07:08:54.083729",
     "exception": false,
     "start_time": "2024-04-21T07:08:54.007749",
     "status": "completed"
    },
    "tags": []
   },
   "outputs": [
    {
     "name": "stdout",
     "output_type": "stream",
     "text": [
      "Time taken in training: 877.36 sec\n",
      "Memory taken in training: 18984.0 MB\n"
     ]
    },
    {
     "data": {
      "text/plain": [
       "{'activation': 'tanh',\n",
       " 'hidden_layer_sizes': (256, 256, 128, 128, 64, 64),\n",
       " 'learning_rate': 'constant',\n",
       " 'max_iter': 220}"
      ]
     },
     "execution_count": 22,
     "metadata": {},
     "output_type": "execute_result"
    }
   ],
   "source": [
    "# Printing time, memory taken by the model\n",
    "print(f\"Time taken in training: {round(e-s, 2)} sec\")\n",
    "print(f\"Memory taken in training: {round((memAF-memBS)/1024, 2)} MB\")\n",
    "mlp_clust_1.best_params_"
   ]
  },
  {
   "cell_type": "code",
   "execution_count": 14,
   "id": "c7bd782d",
   "metadata": {
    "execution": {
     "iopub.execute_input": "2024-04-21T07:08:54.208622Z",
     "iopub.status.busy": "2024-04-21T07:08:54.207777Z",
     "iopub.status.idle": "2024-04-21T07:08:55.180049Z",
     "shell.execute_reply": "2024-04-21T07:08:55.178381Z"
    },
    "papermill": {
     "duration": 1.042836,
     "end_time": "2024-04-21T07:08:55.185963",
     "exception": false,
     "start_time": "2024-04-21T07:08:54.143127",
     "status": "completed"
    },
    "tags": []
   },
   "outputs": [
    {
     "name": "stdout",
     "output_type": "stream",
     "text": [
      "Accuracy on testing dataset: 74.34%\n"
     ]
    }
   ],
   "source": [
    "print(f\"Accuracy on testing dataset: {mlp_clust_1.score(x_test.values, y_test_onehot)*100:.2f}%\")"
   ]
  },
  {
   "cell_type": "code",
   "execution_count": 24,
   "id": "6f139c0c",
   "metadata": {
    "execution": {
     "iopub.execute_input": "2024-04-21T07:08:55.355193Z",
     "iopub.status.busy": "2024-04-21T07:08:55.354713Z",
     "iopub.status.idle": "2024-04-21T07:08:56.346732Z",
     "shell.execute_reply": "2024-04-21T07:08:56.344804Z"
    },
    "papermill": {
     "duration": 1.05966,
     "end_time": "2024-04-21T07:08:56.351209",
     "exception": false,
     "start_time": "2024-04-21T07:08:55.291549",
     "status": "completed"
    },
    "tags": []
   },
   "outputs": [
    {
     "name": "stdout",
     "output_type": "stream",
     "text": [
      "Metrics for each class:\n",
      "   Precision  Recall  F1 Score  Support\n",
      "0   0.761853   0.707  0.733402     1000\n",
      "1   0.974306   0.948  0.960973     1000\n",
      "2   0.720327   0.528  0.609348     1000\n",
      "3   0.871429   0.732  0.795652     1000\n",
      "4   0.680401   0.611  0.643836     1000\n",
      "5   0.967905   0.573  0.719849     1000\n",
      "6   0.487521   0.586  0.532243     1000\n",
      "7   0.778420   0.808  0.792934     1000\n",
      "8   0.948936   0.892  0.919588     1000\n",
      "9   0.777869   0.949  0.854955     1000\n"
     ]
    }
   ],
   "source": [
    "# Predicting on the test data\n",
    "y_pred = mlp_clust_1.predict(x_test)\n",
    "\n",
    "# Calculate precision, recall, and F1 score for each class\n",
    "precision, recall, f1_score, support = precision_recall_fscore_support(y_test_onehot, y_pred)\n",
    "results_df = pd.DataFrame({'Precision': precision,\n",
    "                           'Recall': recall,\n",
    "                           'F1 Score': f1_score,\n",
    "                           'Support': support},\n",
    "                          index=range(len(precision)))\n",
    "\n",
    "print(\"Metrics for each class:\")\n",
    "print(results_df)"
   ]
  },
  {
   "cell_type": "markdown",
   "id": "ed06f985",
   "metadata": {
    "papermill": {
     "duration": 0.058797,
     "end_time": "2024-04-21T07:08:56.499533",
     "exception": false,
     "start_time": "2024-04-21T07:08:56.440736",
     "status": "completed"
    },
    "tags": []
   },
   "source": [
    "# Propagate the above situation to the entire cluster for each respective cluster\n"
   ]
  },
  {
   "cell_type": "code",
   "execution_count": 25,
   "id": "e815bd8e",
   "metadata": {
    "execution": {
     "iopub.execute_input": "2024-04-21T07:08:56.620400Z",
     "iopub.status.busy": "2024-04-21T07:08:56.619966Z",
     "iopub.status.idle": "2024-04-21T07:08:56.950865Z",
     "shell.execute_reply": "2024-04-21T07:08:56.949543Z"
    },
    "papermill": {
     "duration": 0.394638,
     "end_time": "2024-04-21T07:08:56.953529",
     "exception": false,
     "start_time": "2024-04-21T07:08:56.558891",
     "status": "completed"
    },
    "tags": []
   },
   "outputs": [
    {
     "data": {
      "text/plain": [
       "((60000, 784), (60000, 10))"
      ]
     },
     "execution_count": 25,
     "metadata": {},
     "output_type": "execute_result"
    }
   ],
   "source": [
    "# Taking whole dataset as training data\n",
    "x_train_clust_100 = np.vstack(x_train_clust)\n",
    "# Giving all images label which nearest image to the centroid has for each cluster\n",
    "y_train_clust_100 = np.hstack([np.array([y_train_clust[i]]*x_train_clust[i].shape[0]) for i in range(n_clusters)])\n",
    "\n",
    "# Changing into onehot vector\n",
    "y_train_clust_100_onehot = np.eye(len(classes))[y_train_clust_100]\n",
    "x_train_clust_100.shape, y_train_clust_100_onehot.shape"
   ]
  },
  {
   "cell_type": "code",
   "execution_count": 26,
   "id": "ce678c66",
   "metadata": {
    "execution": {
     "iopub.execute_input": "2024-04-21T07:08:57.077593Z",
     "iopub.status.busy": "2024-04-21T07:08:57.076837Z",
     "iopub.status.idle": "2024-04-21T07:08:57.329497Z",
     "shell.execute_reply": "2024-04-21T07:08:57.328242Z"
    },
    "papermill": {
     "duration": 0.31708,
     "end_time": "2024-04-21T07:08:57.332156",
     "exception": false,
     "start_time": "2024-04-21T07:08:57.015076",
     "status": "completed"
    },
    "tags": []
   },
   "outputs": [
    {
     "data": {
      "text/plain": [
       "((18000, 784), (18000, 10))"
      ]
     },
     "execution_count": 26,
     "metadata": {},
     "output_type": "execute_result"
    }
   ],
   "source": [
    "# Sample for hyperparameter tuning\n",
    "_, x_train_sample, _, y_train_sample_onehot = train_test_split(x_train_clust_100,\n",
    "                                                        y_train_clust_100_onehot,\n",
    "                                                        test_size=0.3,\n",
    "                                                        stratify=y_train,\n",
    "                                                        shuffle=True,\n",
    "                                                        random_state=42)\n",
    "x_train_sample.shape, y_train_sample_onehot.shape"
   ]
  },
  {
   "cell_type": "code",
   "execution_count": null,
   "id": "d1b429c9",
   "metadata": {
    "collapsed": true,
    "execution": {
     "iopub.execute_input": "2024-04-21T07:08:57.458424Z",
     "iopub.status.busy": "2024-04-21T07:08:57.457642Z",
     "iopub.status.idle": "2024-04-21T11:34:26.736817Z",
     "shell.execute_reply": "2024-04-21T11:34:26.734825Z"
    },
    "jupyter": {
     "outputs_hidden": true
    },
    "papermill": {
     "duration": 15929.346409,
     "end_time": "2024-04-21T11:34:26.741992",
     "exception": false,
     "start_time": "2024-04-21T07:08:57.395583",
     "status": "completed"
    },
    "tags": []
   },
   "outputs": [],
   "source": [
    "# Variables to track the time and memory used by the model\n",
    "s = time.time()\n",
    "memBS = process.memory_info().rss\n",
    "\n",
    "# Hyper Parameters to tune\n",
    "param_grid = {\n",
    "    'hidden_layer_sizes': [(256,256,128,128,64),\n",
    "                           (256,256,128,128,64,64),\n",
    "                           (256,256,128,128,64,64,64),\n",
    "                           (256,256,128,128,128,64,64,64),\n",
    "                           (256,256,256,128,128,128,64,64,64),\n",
    "                           (256,256,256,128,128,128,64,64,64,32)],\n",
    "    'activation': ['logistic', 'tanh', 'relu'],\n",
    "    'max_iter': [70,80,90,100,110,150]\n",
    "}\n",
    "\n",
    "# Hyper-Parameter tunning using GridSearchCV\n",
    "mlp = MLPClassifier(random_state = 0, early_stopping=False, shuffle=True)\n",
    "mlp_grid = GridSearchCV(estimator=mlp, param_grid=param_grid, n_jobs=-1, cv=3, scoring='accuracy')\n",
    "mlp_grid.fit(x_train_sample, y_train_sample_onehot)\n",
    "\n",
    "# Variables to track the time and memory used by the model\n",
    "e = time.time()\n",
    "memAF = process.memory_info().rss"
   ]
  },
  {
   "cell_type": "code",
   "execution_count": 28,
   "id": "78c35e0f",
   "metadata": {
    "execution": {
     "iopub.execute_input": "2024-04-21T11:34:26.938625Z",
     "iopub.status.busy": "2024-04-21T11:34:26.938158Z",
     "iopub.status.idle": "2024-04-21T11:34:26.948686Z",
     "shell.execute_reply": "2024-04-21T11:34:26.947375Z"
    },
    "papermill": {
     "duration": 0.085278,
     "end_time": "2024-04-21T11:34:26.951256",
     "exception": false,
     "start_time": "2024-04-21T11:34:26.865978",
     "status": "completed"
    },
    "tags": []
   },
   "outputs": [
    {
     "name": "stdout",
     "output_type": "stream",
     "text": [
      "Time taken in training: 15929.27 sec\n",
      "Memory taken in training: 14228.0 MB\n"
     ]
    },
    {
     "data": {
      "text/plain": [
       "{'activation': 'tanh',\n",
       " 'hidden_layer_sizes': (256, 256, 256, 128, 128, 128, 64, 64, 64),\n",
       " 'max_iter': 80}"
      ]
     },
     "execution_count": 28,
     "metadata": {},
     "output_type": "execute_result"
    }
   ],
   "source": [
    "# Printing time, memory taken by the model\n",
    "print(f\"Time taken in training: {round(e-s, 2)} sec\")\n",
    "print(f\"Memory taken in training: {round((memAF-memBS)/1024, 2)} MB\")\n",
    "mlp_grid.best_params_"
   ]
  },
  {
   "cell_type": "code",
   "execution_count": 15,
   "id": "c59146d4",
   "metadata": {
    "execution": {
     "iopub.execute_input": "2024-04-21T11:34:27.094389Z",
     "iopub.status.busy": "2024-04-21T11:34:27.093848Z",
     "iopub.status.idle": "2024-04-21T11:59:15.173594Z",
     "shell.execute_reply": "2024-04-21T11:59:15.172255Z"
    },
    "papermill": {
     "duration": 1488.1572,
     "end_time": "2024-04-21T11:59:15.178796",
     "exception": false,
     "start_time": "2024-04-21T11:34:27.021596",
     "status": "completed"
    },
    "tags": []
   },
   "outputs": [
    {
     "name": "stdout",
     "output_type": "stream",
     "text": [
      "Time taken in training: 1486.68 sec\n",
      "Memory taken in training: 10892.0 MB\n",
      "Accuracy on testing dataset: 75.67%\n"
     ]
    }
   ],
   "source": [
    "# Training the model on the whole dataset with the optimal parameters\n",
    "s = time.time()\n",
    "memBS = process.memory_info().rss\n",
    "\n",
    "mlp_clust_100 = MLPClassifier(random_state = 0, early_stopping=False, shuffle=True, **mlp_grid.best_params_)\n",
    "mlp_clust_100.fit(x_train_clust_100, y_train_clust_100_onehot)\n",
    "\n",
    "e = time.time()\n",
    "memAF = process.memory_info().rss\n",
    "\n",
    "# Printing time, memory taken by the model and accuracy on the test data\n",
    "print(f\"Time taken in training: {round(e-s, 2)} sec\")\n",
    "print(f\"Memory taken in training: {round((memAF-memBS)/1024, 2)} MB\")\n",
    "print(f\"Accuracy on testing dataset: {mlp_clust_100.score(x_test.values, y_test_onehot)*100:.2f}%\")"
   ]
  },
  {
   "cell_type": "code",
   "execution_count": 30,
   "id": "01f0a30b",
   "metadata": {
    "execution": {
     "iopub.execute_input": "2024-04-21T11:59:15.372959Z",
     "iopub.status.busy": "2024-04-21T11:59:15.372510Z",
     "iopub.status.idle": "2024-04-21T11:59:16.780109Z",
     "shell.execute_reply": "2024-04-21T11:59:16.778527Z"
    },
    "papermill": {
     "duration": 1.48988,
     "end_time": "2024-04-21T11:59:16.786922",
     "exception": false,
     "start_time": "2024-04-21T11:59:15.297042",
     "status": "completed"
    },
    "tags": []
   },
   "outputs": [
    {
     "name": "stdout",
     "output_type": "stream",
     "text": [
      "Metrics for each class:\n",
      "   Precision  Recall  F1 Score  Support\n",
      "0   0.692453   0.734  0.712621     1000\n",
      "1   0.991489   0.932  0.960825     1000\n",
      "2   0.627219   0.530  0.574526     1000\n",
      "3   0.838746   0.749  0.791337     1000\n",
      "4   0.559109   0.577  0.567913     1000\n",
      "5   0.962418   0.589  0.730769     1000\n",
      "6   0.429167   0.515  0.468182     1000\n",
      "7   0.754011   0.846  0.797361     1000\n",
      "8   0.927435   0.933  0.930209     1000\n",
      "9   0.752396   0.942  0.836590     1000\n"
     ]
    }
   ],
   "source": [
    "# Predicting on the test data\n",
    "y_pred = mlp_clust_100.predict(x_test)\n",
    "\n",
    "# Calculate precision, recall, and F1 score for each class\n",
    "precision, recall, f1_score, support = precision_recall_fscore_support(y_test_onehot, y_pred)\n",
    "results_df = pd.DataFrame({'Precision': precision,\n",
    "                           'Recall': recall,\n",
    "                           'F1 Score': f1_score,\n",
    "                           'Support': support},\n",
    "                          index=range(len(precision)))\n",
    "\n",
    "print(\"Metrics for each class:\")\n",
    "print(results_df)"
   ]
  },
  {
   "cell_type": "markdown",
   "id": "6708ec3f",
   "metadata": {
    "papermill": {
     "duration": 0.071342,
     "end_time": "2024-04-21T11:59:16.961338",
     "exception": false,
     "start_time": "2024-04-21T11:59:16.889996",
     "status": "completed"
    },
    "tags": []
   },
   "source": [
    "# Propagate the clustering to 25% images near to centroid\n"
   ]
  },
  {
   "cell_type": "code",
   "execution_count": 31,
   "id": "bb743a8e",
   "metadata": {
    "execution": {
     "iopub.execute_input": "2024-04-21T11:59:17.111468Z",
     "iopub.status.busy": "2024-04-21T11:59:17.111001Z",
     "iopub.status.idle": "2024-04-21T11:59:17.202038Z",
     "shell.execute_reply": "2024-04-21T11:59:17.200849Z"
    },
    "papermill": {
     "duration": 0.171025,
     "end_time": "2024-04-21T11:59:17.205006",
     "exception": false,
     "start_time": "2024-04-21T11:59:17.033981",
     "status": "completed"
    },
    "tags": []
   },
   "outputs": [
    {
     "data": {
      "text/plain": [
       "((14887, 784), (14887, 10))"
      ]
     },
     "execution_count": 31,
     "metadata": {},
     "output_type": "execute_result"
    }
   ],
   "source": [
    "# Taking first 25% images form each cluster\n",
    "clust_prc = 0.25\n",
    "x_train_clust_20 = np.vstack([clust[:int(clust.shape[0]*clust_prc), :] for clust in x_train_clust])\n",
    "y_train_clust_20 = np.hstack([np.array([y_train_clust[i]]*int(x_train_clust[i].shape[0]*clust_prc)) for i in range(len(x_train_clust))])\n",
    "\n",
    "# Converting into onehot vectors\n",
    "y_train_clust_20_onehot = np.eye(len(classes))[y_train_clust_20]\n",
    "x_train_clust_20.shape, y_train_clust_20_onehot.shape"
   ]
  },
  {
   "cell_type": "code",
   "execution_count": null,
   "id": "cc43894d",
   "metadata": {
    "execution": {
     "iopub.execute_input": "2024-04-21T11:59:17.351761Z",
     "iopub.status.busy": "2024-04-21T11:59:17.351338Z",
     "iopub.status.idle": "2024-04-21T13:37:06.374454Z",
     "shell.execute_reply": "2024-04-21T13:37:06.372239Z"
    },
    "papermill": {
     "duration": 5869.103172,
     "end_time": "2024-04-21T13:37:06.380403",
     "exception": false,
     "start_time": "2024-04-21T11:59:17.277231",
     "status": "completed"
    },
    "tags": []
   },
   "outputs": [],
   "source": [
    "# Variables to track the time and memory used by the model\n",
    "s = time.time()\n",
    "memBS = process.memory_info().rss\n",
    "\n",
    "# Hyper Parameters to tune\n",
    "param_grid = {\n",
    "    'hidden_layer_sizes': [(256,256,128,128,64,64),\n",
    "                           (256,256,128,128,64,64,64),\n",
    "                           (256,256,128,128,128,64,64,64),\n",
    "                           (256,256,256,128,128,128,64,64,64)],\n",
    "    'activation': ['logistic', 'tanh', 'relu'],\n",
    "    'max_iter': [80,90,100,120]\n",
    "}\n",
    "\n",
    "# Hyper-Parameter tunning using GridSearchCV\n",
    "mlp = MLPClassifier(random_state = 42, early_stopping=False)\n",
    "mlp_clust_20 = GridSearchCV(estimator=mlp, param_grid=param_grid, n_jobs=-1, cv=3, scoring='accuracy')\n",
    "mlp_clust_20.fit(x_train_clust_20, y_train_clust_20_onehot)\n",
    "\n",
    "# Variables to track the time and memory used by the modelv\n",
    "e = time.time()\n",
    "memAF = process.memory_info().rss"
   ]
  },
  {
   "cell_type": "code",
   "execution_count": 16,
   "id": "144b57a0",
   "metadata": {
    "execution": {
     "iopub.execute_input": "2024-04-21T13:37:06.708766Z",
     "iopub.status.busy": "2024-04-21T13:37:06.708317Z",
     "iopub.status.idle": "2024-04-21T13:37:07.734996Z",
     "shell.execute_reply": "2024-04-21T13:37:07.733731Z"
    },
    "papermill": {
     "duration": 1.235066,
     "end_time": "2024-04-21T13:37:07.741073",
     "exception": false,
     "start_time": "2024-04-21T13:37:06.506007",
     "status": "completed"
    },
    "tags": []
   },
   "outputs": [
    {
     "name": "stdout",
     "output_type": "stream",
     "text": [
      "Time taken in training: 5869.01 sec\n",
      "Memory taken in training: 8464.0 MB\n",
      "Accuracy on testing dataset: 77.0%\n"
     ]
    },
    {
     "data": {
      "text/plain": [
       "{'activation': 'tanh',\n",
       " 'hidden_layer_sizes': (256, 256, 128, 128, 64, 64, 64),\n",
       " 'max_iter': 120}"
      ]
     },
     "execution_count": 16,
     "metadata": {},
     "output_type": "execute_result"
    }
   ],
   "source": [
    "# Printing time, memory taken by the model and accuracy on the test data\n",
    "print(f\"Time taken in training: {round(e-s, 2)} sec\")\n",
    "print(f\"Memory taken in training: {round((memAF-memBS)/1024, 2)} MB\")\n",
    "print(f\"Accuracy on testing dataset: {mlp_clust_20.score(x_test.values, y_test_onehot)*100:.2f}%\")\n",
    "mlp_clust_20.best_params_"
   ]
  },
  {
   "cell_type": "code",
   "execution_count": 36,
   "id": "f6468b71",
   "metadata": {
    "execution": {
     "iopub.execute_input": "2024-04-21T13:37:08.417036Z",
     "iopub.status.busy": "2024-04-21T13:37:08.416611Z",
     "iopub.status.idle": "2024-04-21T13:37:09.484337Z",
     "shell.execute_reply": "2024-04-21T13:37:09.483121Z"
    },
    "papermill": {
     "duration": 1.151527,
     "end_time": "2024-04-21T13:37:09.489872",
     "exception": false,
     "start_time": "2024-04-21T13:37:08.338345",
     "status": "completed"
    },
    "tags": []
   },
   "outputs": [
    {
     "name": "stdout",
     "output_type": "stream",
     "text": [
      "Metrics for each class:\n",
      "   Precision  Recall  F1 Score  Support\n",
      "0   0.694499   0.707  0.700694     1000\n",
      "1   0.986402   0.943  0.964213     1000\n",
      "2   0.608981   0.556  0.581286     1000\n",
      "3   0.792570   0.768  0.780091     1000\n",
      "4   0.581609   0.506  0.541176     1000\n",
      "5   0.916318   0.657  0.765288     1000\n",
      "6   0.440000   0.528  0.480000     1000\n",
      "7   0.826964   0.779  0.802266     1000\n",
      "8   0.940816   0.922  0.931313     1000\n",
      "9   0.723338   0.936  0.816042     1000\n"
     ]
    }
   ],
   "source": [
    "# Predicting on the test data\n",
    "y_pred = mlp_clust_20.predict(x_test)\n",
    "\n",
    "# Calculate precision, recall, and F1 score for each class\n",
    "precision, recall, f1_score, support = precision_recall_fscore_support(y_test_onehot, y_pred)\n",
    "results_df = pd.DataFrame({'Precision': precision,\n",
    "                           'Recall': recall,\n",
    "                           'F1 Score': f1_score,\n",
    "                           'Support': support},\n",
    "                          index=range(len(precision)))\n",
    "\n",
    "print(\"Metrics for each class:\")\n",
    "print(results_df)"
   ]
  },
  {
   "cell_type": "code",
   "execution_count": null,
   "id": "91e69a2e",
   "metadata": {
    "papermill": {
     "duration": 0.07536,
     "end_time": "2024-04-21T13:37:09.670851",
     "exception": false,
     "start_time": "2024-04-21T13:37:09.595491",
     "status": "completed"
    },
    "tags": []
   },
   "outputs": [],
   "source": []
  }
 ],
 "metadata": {
  "kaggle": {
   "accelerator": "none",
   "dataSources": [
    {
     "datasetId": 2243,
     "sourceId": 9243,
     "sourceType": "datasetVersion"
    }
   ],
   "dockerImageVersionId": 30684,
   "isGpuEnabled": false,
   "isInternetEnabled": true,
   "language": "python",
   "sourceType": "notebook"
  },
  "kernelspec": {
   "display_name": "Python 3",
   "language": "python",
   "name": "python3"
  },
  "language_info": {
   "codemirror_mode": {
    "name": "ipython",
    "version": 3
   },
   "file_extension": ".py",
   "mimetype": "text/x-python",
   "name": "python",
   "nbconvert_exporter": "python",
   "pygments_lexer": "ipython3",
   "version": "3.10.13"
  },
  "papermill": {
   "default_parameters": {},
   "duration": 36935.310938,
   "end_time": "2024-04-21T13:37:12.949125",
   "environment_variables": {},
   "exception": null,
   "input_path": "__notebook__.ipynb",
   "output_path": "__notebook__.ipynb",
   "parameters": {},
   "start_time": "2024-04-21T03:21:37.638187",
   "version": "2.5.0"
  }
 },
 "nbformat": 4,
 "nbformat_minor": 5
}
