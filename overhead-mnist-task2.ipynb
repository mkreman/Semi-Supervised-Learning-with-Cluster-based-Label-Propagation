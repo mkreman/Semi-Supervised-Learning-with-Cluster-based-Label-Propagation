{
 "cells": [
  {
   "cell_type": "markdown",
   "id": "3f5a2950",
   "metadata": {},
   "source": [
    "# **Experiments on overhead-mnist dataset**"
   ]
  },
  {
   "cell_type": "code",
   "execution_count": 2,
   "id": "20e7d1d4",
   "metadata": {
    "execution": {
     "iopub.execute_input": "2024-04-20T15:50:14.068413Z",
     "iopub.status.busy": "2024-04-20T15:50:14.067838Z",
     "iopub.status.idle": "2024-04-20T15:50:16.964937Z",
     "shell.execute_reply": "2024-04-20T15:50:16.963726Z"
    },
    "papermill": {
     "duration": 2.913789,
     "end_time": "2024-04-20T15:50:16.968098",
     "exception": false,
     "start_time": "2024-04-20T15:50:14.054309",
     "status": "completed"
    },
    "tags": []
   },
   "outputs": [],
   "source": [
    "import os\n",
    "import time \n",
    "import psutil\n",
    "import warnings\n",
    "import numpy as np\n",
    "import pandas as pd\n",
    "import matplotlib.pyplot as plt\n",
    "from sklearn.cluster import KMeans\n",
    "from sklearn.neural_network import MLPClassifier\n",
    "from sklearn.preprocessing import OneHotEncoder\n",
    "from sklearn.model_selection import GridSearchCV, train_test_split\n",
    "from sklearn.metrics import precision_recall_fscore_support\n",
    "\n",
    "warnings.filterwarnings(\"ignore\")\n",
    "process = psutil.Process(os.getpid())"
   ]
  },
  {
   "cell_type": "code",
   "execution_count": 3,
   "id": "ad4a7cd9",
   "metadata": {
    "execution": {
     "iopub.execute_input": "2024-04-20T15:50:16.992577Z",
     "iopub.status.busy": "2024-04-20T15:50:16.991899Z",
     "iopub.status.idle": "2024-04-20T15:50:18.428702Z",
     "shell.execute_reply": "2024-04-20T15:50:18.427621Z"
    },
    "papermill": {
     "duration": 1.4524,
     "end_time": "2024-04-20T15:50:18.431442",
     "exception": false,
     "start_time": "2024-04-20T15:50:16.979042",
     "status": "completed"
    },
    "tags": []
   },
   "outputs": [
    {
     "data": {
      "text/html": [
       "<div>\n",
       "<style scoped>\n",
       "    .dataframe tbody tr th:only-of-type {\n",
       "        vertical-align: middle;\n",
       "    }\n",
       "\n",
       "    .dataframe tbody tr th {\n",
       "        vertical-align: top;\n",
       "    }\n",
       "\n",
       "    .dataframe thead th {\n",
       "        text-align: right;\n",
       "    }\n",
       "</style>\n",
       "<table border=\"1\" class=\"dataframe\">\n",
       "  <thead>\n",
       "    <tr style=\"text-align: right;\">\n",
       "      <th></th>\n",
       "      <th>label</th>\n",
       "      <th>pixel1</th>\n",
       "      <th>pixel2</th>\n",
       "      <th>pixel3</th>\n",
       "      <th>pixel4</th>\n",
       "      <th>pixel5</th>\n",
       "      <th>pixel6</th>\n",
       "      <th>pixel7</th>\n",
       "      <th>pixel8</th>\n",
       "      <th>pixel9</th>\n",
       "      <th>...</th>\n",
       "      <th>pixel775</th>\n",
       "      <th>pixel776</th>\n",
       "      <th>pixel777</th>\n",
       "      <th>pixel778</th>\n",
       "      <th>pixel779</th>\n",
       "      <th>pixel780</th>\n",
       "      <th>pixel781</th>\n",
       "      <th>pixel782</th>\n",
       "      <th>pixel783</th>\n",
       "      <th>pixel784</th>\n",
       "    </tr>\n",
       "  </thead>\n",
       "  <tbody>\n",
       "    <tr>\n",
       "      <th>0</th>\n",
       "      <td>8</td>\n",
       "      <td>86</td>\n",
       "      <td>91</td>\n",
       "      <td>98</td>\n",
       "      <td>97</td>\n",
       "      <td>96</td>\n",
       "      <td>89</td>\n",
       "      <td>76</td>\n",
       "      <td>84</td>\n",
       "      <td>87</td>\n",
       "      <td>...</td>\n",
       "      <td>76</td>\n",
       "      <td>81</td>\n",
       "      <td>80</td>\n",
       "      <td>72</td>\n",
       "      <td>77</td>\n",
       "      <td>83</td>\n",
       "      <td>71</td>\n",
       "      <td>44</td>\n",
       "      <td>53</td>\n",
       "      <td>33</td>\n",
       "    </tr>\n",
       "    <tr>\n",
       "      <th>1</th>\n",
       "      <td>3</td>\n",
       "      <td>128</td>\n",
       "      <td>133</td>\n",
       "      <td>129</td>\n",
       "      <td>119</td>\n",
       "      <td>114</td>\n",
       "      <td>128</td>\n",
       "      <td>141</td>\n",
       "      <td>131</td>\n",
       "      <td>133</td>\n",
       "      <td>...</td>\n",
       "      <td>137</td>\n",
       "      <td>129</td>\n",
       "      <td>139</td>\n",
       "      <td>161</td>\n",
       "      <td>128</td>\n",
       "      <td>137</td>\n",
       "      <td>131</td>\n",
       "      <td>125</td>\n",
       "      <td>127</td>\n",
       "      <td>135</td>\n",
       "    </tr>\n",
       "    <tr>\n",
       "      <th>2</th>\n",
       "      <td>0</td>\n",
       "      <td>138</td>\n",
       "      <td>117</td>\n",
       "      <td>84</td>\n",
       "      <td>52</td>\n",
       "      <td>38</td>\n",
       "      <td>62</td>\n",
       "      <td>86</td>\n",
       "      <td>75</td>\n",
       "      <td>101</td>\n",
       "      <td>...</td>\n",
       "      <td>63</td>\n",
       "      <td>99</td>\n",
       "      <td>109</td>\n",
       "      <td>83</td>\n",
       "      <td>61</td>\n",
       "      <td>54</td>\n",
       "      <td>75</td>\n",
       "      <td>98</td>\n",
       "      <td>107</td>\n",
       "      <td>108</td>\n",
       "    </tr>\n",
       "    <tr>\n",
       "      <th>3</th>\n",
       "      <td>6</td>\n",
       "      <td>105</td>\n",
       "      <td>108</td>\n",
       "      <td>108</td>\n",
       "      <td>109</td>\n",
       "      <td>111</td>\n",
       "      <td>112</td>\n",
       "      <td>107</td>\n",
       "      <td>104</td>\n",
       "      <td>106</td>\n",
       "      <td>...</td>\n",
       "      <td>120</td>\n",
       "      <td>115</td>\n",
       "      <td>105</td>\n",
       "      <td>89</td>\n",
       "      <td>87</td>\n",
       "      <td>98</td>\n",
       "      <td>92</td>\n",
       "      <td>95</td>\n",
       "      <td>89</td>\n",
       "      <td>84</td>\n",
       "    </tr>\n",
       "    <tr>\n",
       "      <th>4</th>\n",
       "      <td>5</td>\n",
       "      <td>176</td>\n",
       "      <td>143</td>\n",
       "      <td>109</td>\n",
       "      <td>155</td>\n",
       "      <td>151</td>\n",
       "      <td>149</td>\n",
       "      <td>145</td>\n",
       "      <td>152</td>\n",
       "      <td>156</td>\n",
       "      <td>...</td>\n",
       "      <td>92</td>\n",
       "      <td>85</td>\n",
       "      <td>82</td>\n",
       "      <td>91</td>\n",
       "      <td>80</td>\n",
       "      <td>80</td>\n",
       "      <td>79</td>\n",
       "      <td>79</td>\n",
       "      <td>82</td>\n",
       "      <td>85</td>\n",
       "    </tr>\n",
       "  </tbody>\n",
       "</table>\n",
       "<p>5 rows × 785 columns</p>\n",
       "</div>"
      ],
      "text/plain": [
       "   label  pixel1  pixel2  pixel3  pixel4  pixel5  pixel6  pixel7  pixel8  \\\n",
       "0      8      86      91      98      97      96      89      76      84   \n",
       "1      3     128     133     129     119     114     128     141     131   \n",
       "2      0     138     117      84      52      38      62      86      75   \n",
       "3      6     105     108     108     109     111     112     107     104   \n",
       "4      5     176     143     109     155     151     149     145     152   \n",
       "\n",
       "   pixel9  ...  pixel775  pixel776  pixel777  pixel778  pixel779  pixel780  \\\n",
       "0      87  ...        76        81        80        72        77        83   \n",
       "1     133  ...       137       129       139       161       128       137   \n",
       "2     101  ...        63        99       109        83        61        54   \n",
       "3     106  ...       120       115       105        89        87        98   \n",
       "4     156  ...        92        85        82        91        80        80   \n",
       "\n",
       "   pixel781  pixel782  pixel783  pixel784  \n",
       "0        71        44        53        33  \n",
       "1       131       125       127       135  \n",
       "2        75        98       107       108  \n",
       "3        92        95        89        84  \n",
       "4        79        79        82        85  \n",
       "\n",
       "[5 rows x 785 columns]"
      ]
     },
     "execution_count": 3,
     "metadata": {},
     "output_type": "execute_result"
    }
   ],
   "source": [
    "train = pd.read_csv('./train.csv')\n",
    "train.head()"
   ]
  },
  {
   "cell_type": "code",
   "execution_count": 4,
   "id": "f8754fd0",
   "metadata": {
    "execution": {
     "iopub.execute_input": "2024-04-20T15:50:18.456786Z",
     "iopub.status.busy": "2024-04-20T15:50:18.455859Z",
     "iopub.status.idle": "2024-04-20T15:50:18.687084Z",
     "shell.execute_reply": "2024-04-20T15:50:18.685937Z"
    },
    "papermill": {
     "duration": 0.247499,
     "end_time": "2024-04-20T15:50:18.690519",
     "exception": false,
     "start_time": "2024-04-20T15:50:18.443020",
     "status": "completed"
    },
    "tags": []
   },
   "outputs": [
    {
     "data": {
      "text/html": [
       "<div>\n",
       "<style scoped>\n",
       "    .dataframe tbody tr th:only-of-type {\n",
       "        vertical-align: middle;\n",
       "    }\n",
       "\n",
       "    .dataframe tbody tr th {\n",
       "        vertical-align: top;\n",
       "    }\n",
       "\n",
       "    .dataframe thead th {\n",
       "        text-align: right;\n",
       "    }\n",
       "</style>\n",
       "<table border=\"1\" class=\"dataframe\">\n",
       "  <thead>\n",
       "    <tr style=\"text-align: right;\">\n",
       "      <th></th>\n",
       "      <th>label</th>\n",
       "      <th>pixel1</th>\n",
       "      <th>pixel2</th>\n",
       "      <th>pixel3</th>\n",
       "      <th>pixel4</th>\n",
       "      <th>pixel5</th>\n",
       "      <th>pixel6</th>\n",
       "      <th>pixel7</th>\n",
       "      <th>pixel8</th>\n",
       "      <th>pixel9</th>\n",
       "      <th>...</th>\n",
       "      <th>pixel775</th>\n",
       "      <th>pixel776</th>\n",
       "      <th>pixel777</th>\n",
       "      <th>pixel778</th>\n",
       "      <th>pixel779</th>\n",
       "      <th>pixel780</th>\n",
       "      <th>pixel781</th>\n",
       "      <th>pixel782</th>\n",
       "      <th>pixel783</th>\n",
       "      <th>pixel784</th>\n",
       "    </tr>\n",
       "  </thead>\n",
       "  <tbody>\n",
       "    <tr>\n",
       "      <th>0</th>\n",
       "      <td>5</td>\n",
       "      <td>198</td>\n",
       "      <td>225</td>\n",
       "      <td>234</td>\n",
       "      <td>229</td>\n",
       "      <td>230</td>\n",
       "      <td>228</td>\n",
       "      <td>214</td>\n",
       "      <td>244</td>\n",
       "      <td>107</td>\n",
       "      <td>...</td>\n",
       "      <td>209</td>\n",
       "      <td>222</td>\n",
       "      <td>211</td>\n",
       "      <td>196</td>\n",
       "      <td>216</td>\n",
       "      <td>206</td>\n",
       "      <td>192</td>\n",
       "      <td>212</td>\n",
       "      <td>242</td>\n",
       "      <td>254</td>\n",
       "    </tr>\n",
       "    <tr>\n",
       "      <th>1</th>\n",
       "      <td>1</td>\n",
       "      <td>34</td>\n",
       "      <td>35</td>\n",
       "      <td>30</td>\n",
       "      <td>17</td>\n",
       "      <td>16</td>\n",
       "      <td>22</td>\n",
       "      <td>11</td>\n",
       "      <td>42</td>\n",
       "      <td>137</td>\n",
       "      <td>...</td>\n",
       "      <td>36</td>\n",
       "      <td>41</td>\n",
       "      <td>32</td>\n",
       "      <td>33</td>\n",
       "      <td>34</td>\n",
       "      <td>37</td>\n",
       "      <td>33</td>\n",
       "      <td>36</td>\n",
       "      <td>35</td>\n",
       "      <td>37</td>\n",
       "    </tr>\n",
       "    <tr>\n",
       "      <th>2</th>\n",
       "      <td>4</td>\n",
       "      <td>113</td>\n",
       "      <td>176</td>\n",
       "      <td>239</td>\n",
       "      <td>250</td>\n",
       "      <td>247</td>\n",
       "      <td>231</td>\n",
       "      <td>177</td>\n",
       "      <td>181</td>\n",
       "      <td>178</td>\n",
       "      <td>...</td>\n",
       "      <td>70</td>\n",
       "      <td>85</td>\n",
       "      <td>158</td>\n",
       "      <td>189</td>\n",
       "      <td>150</td>\n",
       "      <td>168</td>\n",
       "      <td>148</td>\n",
       "      <td>181</td>\n",
       "      <td>154</td>\n",
       "      <td>54</td>\n",
       "    </tr>\n",
       "    <tr>\n",
       "      <th>3</th>\n",
       "      <td>3</td>\n",
       "      <td>151</td>\n",
       "      <td>129</td>\n",
       "      <td>173</td>\n",
       "      <td>182</td>\n",
       "      <td>140</td>\n",
       "      <td>119</td>\n",
       "      <td>120</td>\n",
       "      <td>115</td>\n",
       "      <td>112</td>\n",
       "      <td>...</td>\n",
       "      <td>136</td>\n",
       "      <td>118</td>\n",
       "      <td>126</td>\n",
       "      <td>130</td>\n",
       "      <td>124</td>\n",
       "      <td>119</td>\n",
       "      <td>134</td>\n",
       "      <td>126</td>\n",
       "      <td>121</td>\n",
       "      <td>122</td>\n",
       "    </tr>\n",
       "    <tr>\n",
       "      <th>4</th>\n",
       "      <td>7</td>\n",
       "      <td>186</td>\n",
       "      <td>159</td>\n",
       "      <td>233</td>\n",
       "      <td>255</td>\n",
       "      <td>255</td>\n",
       "      <td>227</td>\n",
       "      <td>140</td>\n",
       "      <td>110</td>\n",
       "      <td>113</td>\n",
       "      <td>...</td>\n",
       "      <td>131</td>\n",
       "      <td>149</td>\n",
       "      <td>108</td>\n",
       "      <td>87</td>\n",
       "      <td>120</td>\n",
       "      <td>131</td>\n",
       "      <td>138</td>\n",
       "      <td>137</td>\n",
       "      <td>137</td>\n",
       "      <td>139</td>\n",
       "    </tr>\n",
       "  </tbody>\n",
       "</table>\n",
       "<p>5 rows × 785 columns</p>\n",
       "</div>"
      ],
      "text/plain": [
       "   label  pixel1  pixel2  pixel3  pixel4  pixel5  pixel6  pixel7  pixel8  \\\n",
       "0      5     198     225     234     229     230     228     214     244   \n",
       "1      1      34      35      30      17      16      22      11      42   \n",
       "2      4     113     176     239     250     247     231     177     181   \n",
       "3      3     151     129     173     182     140     119     120     115   \n",
       "4      7     186     159     233     255     255     227     140     110   \n",
       "\n",
       "   pixel9  ...  pixel775  pixel776  pixel777  pixel778  pixel779  pixel780  \\\n",
       "0     107  ...       209       222       211       196       216       206   \n",
       "1     137  ...        36        41        32        33        34        37   \n",
       "2     178  ...        70        85       158       189       150       168   \n",
       "3     112  ...       136       118       126       130       124       119   \n",
       "4     113  ...       131       149       108        87       120       131   \n",
       "\n",
       "   pixel781  pixel782  pixel783  pixel784  \n",
       "0       192       212       242       254  \n",
       "1        33        36        35        37  \n",
       "2       148       181       154        54  \n",
       "3       134       126       121       122  \n",
       "4       138       137       137       139  \n",
       "\n",
       "[5 rows x 785 columns]"
      ]
     },
     "execution_count": 4,
     "metadata": {},
     "output_type": "execute_result"
    }
   ],
   "source": [
    "test = pd.read_csv('./test.csv')\n",
    "test.head()"
   ]
  },
  {
   "cell_type": "code",
   "execution_count": 5,
   "id": "a670ef28",
   "metadata": {
    "execution": {
     "iopub.execute_input": "2024-04-20T15:50:18.716585Z",
     "iopub.status.busy": "2024-04-20T15:50:18.715121Z",
     "iopub.status.idle": "2024-04-20T15:50:18.808657Z",
     "shell.execute_reply": "2024-04-20T15:50:18.807248Z"
    },
    "papermill": {
     "duration": 0.111527,
     "end_time": "2024-04-20T15:50:18.813675",
     "exception": false,
     "start_time": "2024-04-20T15:50:18.702148",
     "status": "completed"
    },
    "tags": []
   },
   "outputs": [
    {
     "data": {
      "text/plain": [
       "((8519, 784), (8519,))"
      ]
     },
     "execution_count": 5,
     "metadata": {},
     "output_type": "execute_result"
    }
   ],
   "source": [
    "x_train, y_train = train.drop('label', axis=1)/255, train.label\n",
    "x_train.shape, y_train.shape"
   ]
  },
  {
   "cell_type": "code",
   "execution_count": 6,
   "id": "54171c78",
   "metadata": {
    "execution": {
     "iopub.execute_input": "2024-04-20T15:50:18.841643Z",
     "iopub.status.busy": "2024-04-20T15:50:18.840403Z",
     "iopub.status.idle": "2024-04-20T15:50:18.866361Z",
     "shell.execute_reply": "2024-04-20T15:50:18.864718Z"
    },
    "papermill": {
     "duration": 0.042536,
     "end_time": "2024-04-20T15:50:18.869843",
     "exception": false,
     "start_time": "2024-04-20T15:50:18.827307",
     "status": "completed"
    },
    "tags": []
   },
   "outputs": [
    {
     "data": {
      "text/plain": [
       "((1065, 784), (1065,))"
      ]
     },
     "execution_count": 6,
     "metadata": {},
     "output_type": "execute_result"
    }
   ],
   "source": [
    "x_test, y_test = test.drop('label', axis=1)/255, test.label\n",
    "x_test.shape, y_test.shape"
   ]
  },
  {
   "cell_type": "code",
   "execution_count": 7,
   "id": "499ec827",
   "metadata": {
    "execution": {
     "iopub.execute_input": "2024-04-20T15:50:18.905224Z",
     "iopub.status.busy": "2024-04-20T15:50:18.904185Z",
     "iopub.status.idle": "2024-04-20T15:50:18.914250Z",
     "shell.execute_reply": "2024-04-20T15:50:18.913295Z"
    },
    "papermill": {
     "duration": 0.030465,
     "end_time": "2024-04-20T15:50:18.917226",
     "exception": false,
     "start_time": "2024-04-20T15:50:18.886761",
     "status": "completed"
    },
    "tags": []
   },
   "outputs": [
    {
     "data": {
      "text/plain": [
       "((8519, 10), (1065, 10))"
      ]
     },
     "execution_count": 7,
     "metadata": {},
     "output_type": "execute_result"
    }
   ],
   "source": [
    "# Creating OneHot Vector\n",
    "classes = np.unique(y_train)\n",
    "y_train_onehot = np.eye(len(classes))[y_train]\n",
    "y_test_onehot = np.eye(len(classes))[y_test]\n",
    "y_train_onehot.shape, y_test_onehot.shape"
   ]
  },
  {
   "cell_type": "code",
   "execution_count": 12,
   "id": "133d324d",
   "metadata": {
    "execution": {
     "iopub.execute_input": "2024-04-20T15:50:18.949566Z",
     "iopub.status.busy": "2024-04-20T15:50:18.948821Z",
     "iopub.status.idle": "2024-04-20T15:50:19.847281Z",
     "shell.execute_reply": "2024-04-20T15:50:19.846340Z"
    },
    "papermill": {
     "duration": 0.915148,
     "end_time": "2024-04-20T15:50:19.850156",
     "exception": false,
     "start_time": "2024-04-20T15:50:18.935008",
     "status": "completed"
    },
    "tags": []
   },
   "outputs": [
    {
     "data": {
      "image/png": "[encoded data removed]",
      "text/plain": [
       "<Figure size 700x200 with 10 Axes>"
      ]
     },
     "metadata": {},
     "output_type": "display_data"
    }
   ],
   "source": [
    "# Plotting the dataset images\n",
    "Y = np.unique(y_train)\n",
    "labels = pd.read_csv('./labels.csv')\n",
    "# Getting the labels for each class\n",
    "labels = [labels.loc[np.where(labels['label']==n), 'class'].iloc[0] for n in range(10)]\n",
    "\n",
    "# Getting one image from each class\n",
    "imgs = np.array([x_train.loc[np.where(y_train == n)[0][0], :] for n in Y])\n",
    "plt.figure(figsize=(7, 2))\n",
    "for i in range(len(Y)):\n",
    "    plt.subplot(2, 5, i + 1)\n",
    "    plt.imshow(imgs[i, :].reshape(28, 28), cmap='gray')\n",
    "    # Set the title as the corresponding label\n",
    "    plt.title(labels[i])\n",
    "    # Remove axis ticks\n",
    "    plt.axis('off')\n",
    "# Adjust layout\n",
    "plt.tight_layout()\n",
    "plt.show()"
   ]
  },
  {
   "cell_type": "markdown",
   "id": "64b36c7a",
   "metadata": {
    "papermill": {
     "duration": 0.012825,
     "end_time": "2024-04-20T15:50:19.876712",
     "exception": false,
     "start_time": "2024-04-20T15:50:19.863887",
     "status": "completed"
    },
    "tags": []
   },
   "source": [
    "# Training the MLP on the whole dataset"
   ]
  },
  {
   "cell_type": "code",
   "execution_count": null,
   "id": "1fc9a5a7",
   "metadata": {
    "execution": {
     "iopub.execute_input": "2024-04-20T15:50:19.906078Z",
     "iopub.status.busy": "2024-04-20T15:50:19.905115Z",
     "iopub.status.idle": "2024-04-20T17:57:18.859490Z",
     "shell.execute_reply": "2024-04-20T17:57:18.856853Z"
    },
    "papermill": {
     "duration": 7618.981097,
     "end_time": "2024-04-20T17:57:18.871188",
     "exception": false,
     "start_time": "2024-04-20T15:50:19.890091",
     "status": "completed"
    },
    "tags": []
   },
   "outputs": [],
   "source": [
    "# Variables to track the time and memory used by the model\n",
    "s = time.time()\n",
    "memBS = process.memory_info().rss\n",
    "\n",
    "# Hyper Parameters to tune\n",
    "param_grid = {\n",
    "    'hidden_layer_sizes': [(256,128,128,128,64,64,64),\n",
    "                           (256,256,128,128,128,64,64,64),\n",
    "                           (256,256,256,128,128,128,64,64,64),\n",
    "                           (256,256,256,128,128,128,64,64,64,32)],\n",
    "    'activation': ['logistic', 'tanh', 'relu'],\n",
    "    'max_iter': [100,150,200,250,300]\n",
    "}\n",
    "\n",
    "# Hyper-Parameter tunning using GridSearchCV\n",
    "mlp = MLPClassifier(random_state = 42, early_stopping=False)\n",
    "mlp_wd = GridSearchCV(estimator=mlp, param_grid=param_grid, n_jobs=-1, cv=3, scoring='accuracy')\n",
    "mlp_wd.fit(x_train, y_train_onehot)\n",
    "\n",
    "# Variables to track the time and momory used by the model\n",
    "e = time.time()\n",
    "memAF = process.memory_info().rss"
   ]
  },
  {
   "cell_type": "code",
   "execution_count": 9,
   "id": "7f7cf393",
   "metadata": {
    "execution": {
     "iopub.execute_input": "2024-04-20T17:57:18.977205Z",
     "iopub.status.busy": "2024-04-20T17:57:18.976467Z",
     "iopub.status.idle": "2024-04-20T17:57:19.059670Z",
     "shell.execute_reply": "2024-04-20T17:57:19.057040Z"
    },
    "papermill": {
     "duration": 0.126344,
     "end_time": "2024-04-20T17:57:19.064632",
     "exception": false,
     "start_time": "2024-04-20T17:57:18.938288",
     "status": "completed"
    },
    "tags": []
   },
   "outputs": [
    {
     "name": "stdout",
     "output_type": "stream",
     "text": [
      "Time taken in training: 7618.94 sec\n",
      "Memory taken in training: 20612.0 MB\n",
      "Accuracy on testing dataset: 61.41%\n"
     ]
    },
    {
     "data": {
      "text/plain": [
       "{'activation': 'relu',\n",
       " 'hidden_layer_sizes': (256, 256, 256, 128, 128, 128, 64, 64, 64),\n",
       " 'max_iter': 150}"
      ]
     },
     "execution_count": 9,
     "metadata": {},
     "output_type": "execute_result"
    }
   ],
   "source": [
    "# Printing time, memory taken by the model and accuracy on the test data\n",
    "print(f\"Time taken in training: {round(e-s, 2)} sec\")\n",
    "print(f\"Memory taken in training: {round((memAF-memBS)/1024, 2)} MB\")\n",
    "print(f\"Accuracy on testing dataset: {mlp_wd.score(x_test, y_test_onehot)*100:.2f}%\")\n",
    "mlp_wd.best_params_"
   ]
  },
  {
   "cell_type": "code",
   "execution_count": 10,
   "id": "61fc1666",
   "metadata": {
    "execution": {
     "iopub.execute_input": "2024-04-20T17:57:19.139588Z",
     "iopub.status.busy": "2024-04-20T17:57:19.138780Z",
     "iopub.status.idle": "2024-04-20T17:57:19.224455Z",
     "shell.execute_reply": "2024-04-20T17:57:19.222717Z"
    },
    "papermill": {
     "duration": 0.12877,
     "end_time": "2024-04-20T17:57:19.229117",
     "exception": false,
     "start_time": "2024-04-20T17:57:19.100347",
     "status": "completed"
    },
    "tags": []
   },
   "outputs": [
    {
     "name": "stdout",
     "output_type": "stream",
     "text": [
      "Metrics for each class:\n",
      "   Precision    Recall  F1 Score  Support\n",
      "0   0.785047  0.750000  0.767123      112\n",
      "1   0.658537  0.486486  0.559585      111\n",
      "2   0.851351  0.768293  0.807692       82\n",
      "3   0.662921  0.536364  0.592965      110\n",
      "4   0.583333  0.250000  0.350000      112\n",
      "5   0.892473  0.747748  0.813725      111\n",
      "6   0.460526  0.700000  0.555556      100\n",
      "7   0.882353  0.675676  0.765306      111\n",
      "8   0.540146  0.704762  0.611570      105\n",
      "9   0.537190  0.585586  0.560345      111\n"
     ]
    }
   ],
   "source": [
    "# Predicting on the test data\n",
    "y_pred = mlp_wd.predict(x_test)\n",
    "\n",
    "# Calculate precision, recall, and F1 score for each class\n",
    "precision, recall, f1_score, support = precision_recall_fscore_support(y_test_onehot, y_pred)\n",
    "results_df = pd.DataFrame({'Precision': precision,\n",
    "                           'Recall': recall,\n",
    "                           'F1 Score': f1_score,\n",
    "                           'Support': support},\n",
    "                          index=range(len(precision)))\n",
    "\n",
    "print(\"Metrics for each class:\")\n",
    "print(results_df)"
   ]
  },
  {
   "cell_type": "markdown",
   "id": "98c0f869",
   "metadata": {
    "papermill": {
     "duration": 0.035216,
     "end_time": "2024-04-20T17:57:19.300391",
     "exception": false,
     "start_time": "2024-04-20T17:57:19.265175",
     "status": "completed"
    },
    "tags": []
   },
   "source": [
    "# Taking random sample of 300 example"
   ]
  },
  {
   "cell_type": "code",
   "execution_count": 11,
   "id": "5282b82b",
   "metadata": {
    "execution": {
     "iopub.execute_input": "2024-04-20T17:57:19.345276Z",
     "iopub.status.busy": "2024-04-20T17:57:19.344785Z",
     "iopub.status.idle": "2024-04-20T17:57:19.394276Z",
     "shell.execute_reply": "2024-04-20T17:57:19.392991Z"
    },
    "papermill": {
     "duration": 0.070622,
     "end_time": "2024-04-20T17:57:19.397020",
     "exception": false,
     "start_time": "2024-04-20T17:57:19.326398",
     "status": "completed"
    },
    "tags": []
   },
   "outputs": [
    {
     "data": {
      "text/plain": [
       "((300, 784), (300,))"
      ]
     },
     "execution_count": 11,
     "metadata": {},
     "output_type": "execute_result"
    }
   ],
   "source": [
    "# Taking 300 examples for training\n",
    "_, x_train_300, _, y_train_300 = train_test_split(x_train, y_train, test_size=300, stratify=y_train, random_state=0)\n",
    "x_train_300.shape, y_train_300.shape"
   ]
  },
  {
   "cell_type": "code",
   "execution_count": 12,
   "id": "bee30535",
   "metadata": {
    "execution": {
     "iopub.execute_input": "2024-04-20T17:57:19.433849Z",
     "iopub.status.busy": "2024-04-20T17:57:19.433342Z",
     "iopub.status.idle": "2024-04-20T17:57:19.440659Z",
     "shell.execute_reply": "2024-04-20T17:57:19.439807Z"
    },
    "papermill": {
     "duration": 0.028488,
     "end_time": "2024-04-20T17:57:19.442929",
     "exception": false,
     "start_time": "2024-04-20T17:57:19.414441",
     "status": "completed"
    },
    "tags": []
   },
   "outputs": [
    {
     "data": {
      "text/plain": [
       "(300, 10)"
      ]
     },
     "execution_count": 12,
     "metadata": {},
     "output_type": "execute_result"
    }
   ],
   "source": [
    "# Changing into onehot vector\n",
    "y_train_300_onehot = np.eye(len(classes))[y_train_300]\n",
    "y_train_300_onehot.shape"
   ]
  },
  {
   "cell_type": "code",
   "execution_count": null,
   "id": "6eea3966",
   "metadata": {
    "execution": {
     "iopub.execute_input": "2024-04-20T17:57:19.481896Z",
     "iopub.status.busy": "2024-04-20T17:57:19.481366Z",
     "iopub.status.idle": "2024-04-20T18:11:01.716709Z",
     "shell.execute_reply": "2024-04-20T18:11:01.714581Z"
    },
    "papermill": {
     "duration": 822.260827,
     "end_time": "2024-04-20T18:11:01.721780",
     "exception": false,
     "start_time": "2024-04-20T17:57:19.460953",
     "status": "completed"
    },
    "tags": []
   },
   "outputs": [],
   "source": [
    "# Variables to track the time and memory used by the model\n",
    "s = time.time()\n",
    "memBS = process.memory_info().rss\n",
    "\n",
    "# Hyper Parameters to tune\n",
    "param_grid = {\n",
    "    'hidden_layer_sizes': [(128,128,128),\n",
    "                           (128,128,128,64),\n",
    "                           (256,128,128,128),\n",
    "                           (256,256,128,128,64,64),\n",
    "                           (256,256,128,128,64,64,64)],\n",
    "    'activation': ['logistic', 'tanh', 'relu'],\n",
    "    'learning_rate': ['constant', 'invscaling', 'adaptive'],\n",
    "    'max_iter': [100,150,200,250,300]\n",
    "}\n",
    "\n",
    "# Hyper-Parameter tunning using GridSearchCV\n",
    "mlp = MLPClassifier(random_state = 42, early_stopping=False)\n",
    "mlp_grid_300 = GridSearchCV(estimator=mlp, param_grid=param_grid, n_jobs=-1, cv=3, scoring='accuracy')\n",
    "mlp_grid_300.fit(x_train_300.values, y_train_300_onehot)\n",
    "\n",
    "# Variables to track the time and memory used by the model\n",
    "e = time.time()\n",
    "memAF = process.memory_info().rss"
   ]
  },
  {
   "cell_type": "code",
   "execution_count": 14,
   "id": "57679fe0",
   "metadata": {
    "execution": {
     "iopub.execute_input": "2024-04-20T18:11:01.869163Z",
     "iopub.status.busy": "2024-04-20T18:11:01.868670Z",
     "iopub.status.idle": "2024-04-20T18:11:01.910644Z",
     "shell.execute_reply": "2024-04-20T18:11:01.908945Z"
    },
    "papermill": {
     "duration": 0.095472,
     "end_time": "2024-04-20T18:11:01.915435",
     "exception": false,
     "start_time": "2024-04-20T18:11:01.819963",
     "status": "completed"
    },
    "tags": []
   },
   "outputs": [
    {
     "name": "stdout",
     "output_type": "stream",
     "text": [
      "Time taken in training: 822.22 sec\n",
      "Memory taken in training: 456.0 MB\n",
      "Accuracy on testing dataset: 25.63%\n"
     ]
    },
    {
     "data": {
      "text/plain": [
       "{'activation': 'relu',\n",
       " 'hidden_layer_sizes': (256, 256, 128, 128, 64, 64),\n",
       " 'learning_rate': 'constant',\n",
       " 'max_iter': 250}"
      ]
     },
     "execution_count": 14,
     "metadata": {},
     "output_type": "execute_result"
    }
   ],
   "source": [
    "# Printing time, memory taken by the model and accuracy on the test data\n",
    "print(f\"Time taken in training: {round(e-s, 2)} sec\")\n",
    "print(f\"Memory taken in training: {round((memAF-memBS)/1024, 2)} MB\")\n",
    "print(f\"Accuracy on testing dataset: {mlp_grid_20.score(x_test.values, y_test_onehot)*100:.2f}%\")\n",
    "mlp_grid_20.best_params_"
   ]
  },
  {
   "cell_type": "code",
   "execution_count": 15,
   "id": "894808ce",
   "metadata": {
    "execution": {
     "iopub.execute_input": "2024-04-20T18:11:02.066623Z",
     "iopub.status.busy": "2024-04-20T18:11:02.066141Z",
     "iopub.status.idle": "2024-04-20T18:11:02.140623Z",
     "shell.execute_reply": "2024-04-20T18:11:02.138881Z"
    },
    "papermill": {
     "duration": 0.128608,
     "end_time": "2024-04-20T18:11:02.146388",
     "exception": false,
     "start_time": "2024-04-20T18:11:02.017780",
     "status": "completed"
    },
    "tags": []
   },
   "outputs": [
    {
     "name": "stdout",
     "output_type": "stream",
     "text": [
      "Metrics for each class:\n",
      "   Precision    Recall  F1 Score  Support\n",
      "0   0.623529  0.473214  0.538071      112\n",
      "1   0.375000  0.297297  0.331658      111\n",
      "2   0.622951  0.463415  0.531469       82\n",
      "3   0.456522  0.190909  0.269231      110\n",
      "4   0.113636  0.044643  0.064103      112\n",
      "5   0.470270  0.783784  0.587838      111\n",
      "6   0.000000  0.000000  0.000000      100\n",
      "7   0.489796  0.216216  0.300000      111\n",
      "8   0.000000  0.000000  0.000000      105\n",
      "9   0.452381  0.342342  0.389744      111\n"
     ]
    }
   ],
   "source": [
    "# Predicting on the test data\n",
    "y_pred = mlp_grid_20.predict(x_test)\n",
    "\n",
    "# Calculate precision, recall, and F1 score for each class\n",
    "precision, recall, f1_score, support = precision_recall_fscore_support(y_test_onehot, y_pred)\n",
    "results_df = pd.DataFrame({'Precision': precision,\n",
    "                           'Recall': recall,\n",
    "                           'F1 Score': f1_score,\n",
    "                           'Support': support},\n",
    "                          index=range(len(precision)))\n",
    "\n",
    "print(\"Metrics for each class:\")\n",
    "print(results_df)"
   ]
  },
  {
   "cell_type": "markdown",
   "id": "759cb204",
   "metadata": {
    "papermill": {
     "duration": 0.046799,
     "end_time": "2024-04-20T18:11:02.289529",
     "exception": false,
     "start_time": "2024-04-20T18:11:02.242730",
     "status": "completed"
    },
    "tags": []
   },
   "source": [
    "# Clustering the images into 300 clusters"
   ]
  },
  {
   "cell_type": "code",
   "execution_count": 7,
   "id": "84bf4e5b",
   "metadata": {
    "execution": {
     "iopub.execute_input": "2024-04-20T18:11:02.384950Z",
     "iopub.status.busy": "2024-04-20T18:11:02.384434Z",
     "iopub.status.idle": "2024-04-20T18:11:54.943344Z",
     "shell.execute_reply": "2024-04-20T18:11:54.941558Z"
    },
    "papermill": {
     "duration": 52.701156,
     "end_time": "2024-04-20T18:11:55.037685",
     "exception": false,
     "start_time": "2024-04-20T18:11:02.336529",
     "status": "completed"
    },
    "tags": []
   },
   "outputs": [
    {
     "data": {
      "text/plain": [
       "((8519, 300), (8519,))"
      ]
     },
     "execution_count": 7,
     "metadata": {},
     "output_type": "execute_result"
    }
   ],
   "source": [
    "# Clustering the x_train images \n",
    "n_clusters = 300\n",
    "kmean = KMeans(n_clusters=n_clusters, n_init=10, random_state=42)\n",
    "distances = kmean.fit_transform(x_train.values)\n",
    "\n",
    "# distance from images to their centroid and their labels\n",
    "distances.shape, kmean.labels_.shape"
   ]
  },
  {
   "cell_type": "code",
   "execution_count": 8,
   "id": "e59465f3",
   "metadata": {
    "execution": {
     "iopub.execute_input": "2024-04-20T18:11:55.132393Z",
     "iopub.status.busy": "2024-04-20T18:11:55.131912Z",
     "iopub.status.idle": "2024-04-20T18:11:56.211121Z",
     "shell.execute_reply": "2024-04-20T18:11:56.209827Z"
    },
    "papermill": {
     "duration": 1.130403,
     "end_time": "2024-04-20T18:11:56.213875",
     "exception": false,
     "start_time": "2024-04-20T18:11:55.083472",
     "status": "completed"
    },
    "tags": []
   },
   "outputs": [
    {
     "data": {
      "text/plain": [
       "(300, 300)"
      ]
     },
     "execution_count": 8,
     "metadata": {},
     "output_type": "execute_result"
    }
   ],
   "source": [
    "# Finding the nearest image to each centroid\n",
    "x_train_clust = []\n",
    "y_train_clust = []\n",
    "for n in range(n_clusters):\n",
    "    images_dist = []\n",
    "    # Getting the indices of images for centroid n\n",
    "    image_inds = np.where(kmean.labels_ == n)[0]\n",
    "    for i in image_inds:\n",
    "        image = x_train.loc[i, :]\n",
    "        label = y_train.loc[i]\n",
    "        dist = distances[i, n]\n",
    "        images_dist.append((image, dist, label))\n",
    "    \n",
    "    # Sorting the images_dist list respect to 'dist'\n",
    "    images_dist.sort(key=lambda x: x[1])\n",
    "    #  After sorting the first image is nearest to centroid\n",
    "    # Therefore, we'll take its label\n",
    "    y_train_clust.append(images_dist[0][2])\n",
    "    \n",
    "    # Storing images into x_train_clust\n",
    "    images = [img.values for img, _, _ in images_dist]\n",
    "    x_train_clust.append(np.array(images))\n",
    "    \n",
    "len(x_train_clust), len(y_train_clust)"
   ]
  },
  {
   "cell_type": "markdown",
   "id": "f4bc5581",
   "metadata": {
    "papermill": {
     "duration": 0.046317,
     "end_time": "2024-04-20T18:11:56.306687",
     "exception": false,
     "start_time": "2024-04-20T18:11:56.260370",
     "status": "completed"
    },
    "tags": []
   },
   "source": [
    "# Take single image which is near to the centroid from each cluster"
   ]
  },
  {
   "cell_type": "code",
   "execution_count": 18,
   "id": "b2dca68b",
   "metadata": {
    "execution": {
     "iopub.execute_input": "2024-04-20T18:11:56.400935Z",
     "iopub.status.busy": "2024-04-20T18:11:56.400466Z",
     "iopub.status.idle": "2024-04-20T18:11:56.413592Z",
     "shell.execute_reply": "2024-04-20T18:11:56.412339Z"
    },
    "papermill": {
     "duration": 0.063247,
     "end_time": "2024-04-20T18:11:56.416169",
     "exception": false,
     "start_time": "2024-04-20T18:11:56.352922",
     "status": "completed"
    },
    "tags": []
   },
   "outputs": [
    {
     "data": {
      "text/plain": [
       "((300, 784), (300, 10))"
      ]
     },
     "execution_count": 18,
     "metadata": {},
     "output_type": "execute_result"
    }
   ],
   "source": [
    "# Taking image which is nearest to the centroid and its label as training example for each cluster\n",
    "x_train_clust_1 = np.array([x_train_clust[i][0, :] for i in range(n_clusters)])\n",
    "y_train_clust_1 = np.array(y_train_clust)\n",
    "\n",
    "# Changing into onehot vector\n",
    "y_train_clust_1_onehot = np.eye(len(classes))[y_train_clust_1]\n",
    "x_train_clust_1.shape, y_train_clust_1_onehot.shape"
   ]
  },
  {
   "cell_type": "code",
   "execution_count": null,
   "id": "125f86dd",
   "metadata": {
    "execution": {
     "iopub.execute_input": "2024-04-20T18:11:56.512503Z",
     "iopub.status.busy": "2024-04-20T18:11:56.512005Z",
     "iopub.status.idle": "2024-04-20T18:32:26.672852Z",
     "shell.execute_reply": "2024-04-20T18:32:26.671098Z"
    },
    "papermill": {
     "duration": 1230.214629,
     "end_time": "2024-04-20T18:32:26.677786",
     "exception": false,
     "start_time": "2024-04-20T18:11:56.463157",
     "status": "completed"
    },
    "tags": []
   },
   "outputs": [],
   "source": [
    "# Variables to track the time and momory used by the model\n",
    "s = time.time()\n",
    "memBS = process.memory_info().rss\n",
    "\n",
    "# Hyper Parameters to tune\n",
    "param_grid = {\n",
    "    'hidden_layer_sizes': [(256,128,128,64,16),\n",
    "                           (256,128,128,64,64),\n",
    "                           (256,256,128,128,64,64),\n",
    "                           (256,256,128,128,64,64,64),\n",
    "                           (256,256,256,128,128,64,64,64)],\n",
    "    'activation': ['logistic', 'tanh', 'relu'],\n",
    "    'learning_rate': ['constant', 'invscaling', 'adaptive'],\n",
    "    'max_iter': [100,150,200,250,300]\n",
    "}\n",
    "\n",
    "# Hyper-Parameter tunning using GridSearchCV\n",
    "mlp = MLPClassifier(random_state = 42, early_stopping=False)\n",
    "mlp_clust_1 = GridSearchCV(estimator=mlp, param_grid=param_grid, n_jobs=-1, cv=3, scoring='accuracy')\n",
    "mlp_clust_1.fit(x_train_clust_1, y_train_clust_1_onehot)\n",
    "\n",
    "# Variables to track the time and momory used by the model\n",
    "e = time.time()\n",
    "memAF = process.memory_info().rss"
   ]
  },
  {
   "cell_type": "code",
   "execution_count": 20,
   "id": "f862efa0",
   "metadata": {
    "execution": {
     "iopub.execute_input": "2024-04-20T18:32:26.900583Z",
     "iopub.status.busy": "2024-04-20T18:32:26.900076Z",
     "iopub.status.idle": "2024-04-20T18:32:26.996666Z",
     "shell.execute_reply": "2024-04-20T18:32:26.995169Z"
    },
    "papermill": {
     "duration": 0.188647,
     "end_time": "2024-04-20T18:32:27.002333",
     "exception": false,
     "start_time": "2024-04-20T18:32:26.813686",
     "status": "completed"
    },
    "tags": []
   },
   "outputs": [
    {
     "name": "stdout",
     "output_type": "stream",
     "text": [
      "Time taken in training: 1230.15 sec\n",
      "Memory taken in training: 17392.0 MB\n",
      "Accuracy on testing dataset: 32.39%\n"
     ]
    },
    {
     "data": {
      "text/plain": [
       "{'activation': 'tanh',\n",
       " 'hidden_layer_sizes': (256, 128, 128, 64, 64),\n",
       " 'learning_rate': 'constant',\n",
       " 'max_iter': 150}"
      ]
     },
     "execution_count": 20,
     "metadata": {},
     "output_type": "execute_result"
    }
   ],
   "source": [
    "# Printing time, memory taken by the model and accuracy on the test data\n",
    "print(f\"Time taken in training: {round(e-s, 2)} sec\")\n",
    "print(f\"Memory taken in training: {round((memAF-memBS)/1024, 2)} MB\")\n",
    "print(f\"Accuracy on testing dataset: {mlp_clust_1.score(x_test.values, y_test_onehot)*100:.2f}%\")\n",
    "mlp_clust_1.best_params_"
   ]
  },
  {
   "cell_type": "code",
   "execution_count": 21,
   "id": "34f4d6c9",
   "metadata": {
    "execution": {
     "iopub.execute_input": "2024-04-20T18:32:27.227606Z",
     "iopub.status.busy": "2024-04-20T18:32:27.227177Z",
     "iopub.status.idle": "2024-04-20T18:32:27.345793Z",
     "shell.execute_reply": "2024-04-20T18:32:27.344579Z"
    },
    "papermill": {
     "duration": 0.209898,
     "end_time": "2024-04-20T18:32:27.350040",
     "exception": false,
     "start_time": "2024-04-20T18:32:27.140142",
     "status": "completed"
    },
    "tags": []
   },
   "outputs": [
    {
     "name": "stdout",
     "output_type": "stream",
     "text": [
      "Metrics for each class:\n",
      "   Precision    Recall  F1 Score  Support\n",
      "0   0.638554  0.473214  0.543590      112\n",
      "1   0.000000  0.000000  0.000000      111\n",
      "2   0.787879  0.634146  0.702703       82\n",
      "3   0.894737  0.154545  0.263566      110\n",
      "4   0.000000  0.000000  0.000000      112\n",
      "5   0.826667  0.558559  0.666667      111\n",
      "6   0.071429  0.020000  0.031250      100\n",
      "7   0.697917  0.603604  0.647343      111\n",
      "8   0.179916  0.409524  0.250000      105\n",
      "9   0.485149  0.441441  0.462264      111\n"
     ]
    }
   ],
   "source": [
    "# Predicting on the test data\n",
    "y_pred = mlp_clust_1.predict(x_test)\n",
    "\n",
    "# Calculate precision, recall, and F1 score for each class\n",
    "precision, recall, f1_score, support = precision_recall_fscore_support(y_test_onehot, y_pred)\n",
    "results_df = pd.DataFrame({'Precision': precision,\n",
    "                           'Recall': recall,\n",
    "                           'F1 Score': f1_score,\n",
    "                           'Support': support},\n",
    "                          index=range(len(precision)))\n",
    "\n",
    "print(\"Metrics for each class:\")\n",
    "print(results_df)"
   ]
  },
  {
   "cell_type": "markdown",
   "id": "66976e23",
   "metadata": {
    "papermill": {
     "duration": 0.083392,
     "end_time": "2024-04-20T18:32:27.567914",
     "exception": false,
     "start_time": "2024-04-20T18:32:27.484522",
     "status": "completed"
    },
    "tags": []
   },
   "source": [
    "# Propagate the above situation to the entire cluster for each respective cluster"
   ]
  },
  {
   "cell_type": "code",
   "execution_count": 14,
   "id": "7e500e8f",
   "metadata": {
    "execution": {
     "iopub.execute_input": "2024-04-20T18:32:27.736781Z",
     "iopub.status.busy": "2024-04-20T18:32:27.736351Z",
     "iopub.status.idle": "2024-04-20T18:32:27.786740Z",
     "shell.execute_reply": "2024-04-20T18:32:27.785327Z"
    },
    "papermill": {
     "duration": 0.139062,
     "end_time": "2024-04-20T18:32:27.789704",
     "exception": false,
     "start_time": "2024-04-20T18:32:27.650642",
     "status": "completed"
    },
    "tags": []
   },
   "outputs": [
    {
     "data": {
      "text/plain": [
       "((8519, 784), (8519, 10))"
      ]
     },
     "execution_count": 14,
     "metadata": {},
     "output_type": "execute_result"
    }
   ],
   "source": [
    "# Taking whole dataset as training data\n",
    "x_train_clust_100 = np.vstack(x_train_clust)\n",
    "# Giving all images label which nearest image to the centroid has for each cluster\n",
    "y_train_clust_100 = np.hstack([np.array([y_train_clust[i]]*x_train_clust[i].shape[0], dtype=int) for i in range(n_clusters)])\n",
    "\n",
    "# Changing into onehot vector\n",
    "y_train_clust_100_onehot = np.eye(len(classes))[y_train_clust_100]\n",
    "x_train_clust_100.shape, y_train_clust_100_onehot.shape"
   ]
  },
  {
   "cell_type": "code",
   "execution_count": 32,
   "id": "cd7729d9",
   "metadata": {
    "execution": {
     "iopub.execute_input": "2024-04-20T18:32:27.959613Z",
     "iopub.status.busy": "2024-04-20T18:32:27.958928Z",
     "iopub.status.idle": "2024-04-20T20:04:48.262491Z",
     "shell.execute_reply": "2024-04-20T20:04:48.260682Z"
    },
    "papermill": {
     "duration": 5540.394423,
     "end_time": "2024-04-20T20:04:48.268174",
     "exception": false,
     "start_time": "2024-04-20T18:32:27.873751",
     "status": "completed"
    },
    "tags": []
   },
   "outputs": [],
   "source": [
    "# Variables to track the time and memory used by the model\n",
    "s = time.time()\n",
    "memBS = process.memory_info().rss\n",
    "\n",
    "# Hyper Parameters to tune\n",
    "param_grid = {\n",
    "    'hidden_layer_sizes': [(256,256,128,128,64,64),\n",
    "                           (256,256,128,128,64,64,64),\n",
    "                           (256,256,256,128,128,64,64,64),\n",
    "                           (256,256,256,128,128,128,64,64,64),\n",
    "                           (256,256,256,128,128,128,64,64,64,32)\n",
    "                           ],\n",
    "    'activation': ['logistic', 'tanh', 'relu'],\n",
    "    'max_iter': [10,15,20,50]\n",
    "}\n",
    "\n",
    "# Hyper-Parameter tunning using GridSearchCV\n",
    "mlp = MLPClassifier(random_state = 0, early_stopping=False, shuffle=True)\n",
    "mlp_clust_100 = GridSearchCV(estimator=mlp, param_grid=param_grid, n_jobs=-1, cv=3, scoring='accuracy')\n",
    "mlp_clust_100.fit(x_train_clust_100, y_train_clust_100_onehot)\n",
    "\n",
    "# Variables to track the time and momory used by the model\n",
    "e = time.time()\n",
    "memAF = process.memory_info().rss"
   ]
  },
  {
   "cell_type": "code",
   "execution_count": 13,
   "id": "f3d7957e",
   "metadata": {
    "execution": {
     "iopub.execute_input": "2024-04-20T20:04:48.492306Z",
     "iopub.status.busy": "2024-04-20T20:04:48.491843Z",
     "iopub.status.idle": "2024-04-20T20:04:48.654188Z",
     "shell.execute_reply": "2024-04-20T20:04:48.653025Z"
    },
    "papermill": {
     "duration": 0.267027,
     "end_time": "2024-04-20T20:04:48.672627",
     "exception": false,
     "start_time": "2024-04-20T20:04:48.405600",
     "status": "completed"
    },
    "tags": []
   },
   "outputs": [
    {
     "name": "stdout",
     "output_type": "stream",
     "text": [
      "Time taken in training: 7385.57 sec\n",
      "Memory taken in training: 20475.67 MB\n",
      "Accuracy on testing dataset: 33.43%\n",
      "{'activation': 'relu', 'hidden_layer_sizes': (256, 256, 128, 128, 64, 64, 64), 'max_iter': 120}\n"
     ]
    }
   ],
   "source": [
    "# Printing time, memory taken by the model and accuracy on the test data\n",
    "print(f\"Time taken in training: {round(e-s, 2)} sec\")\n",
    "print(f\"Memory taken in training: {round((memAF-memBS)/1024, 2)} MB\")\n",
    "print(f\"Accuracy on testing dataset: {mlp_clust_100.score(x_test.values, y_test_onehot)*100:.2f}%\")\n",
    "mlp_clust_100.best_params_"
   ]
  },
  {
   "cell_type": "code",
   "execution_count": 34,
   "id": "14549301",
   "metadata": {
    "execution": {
     "iopub.execute_input": "2024-04-20T20:04:48.917576Z",
     "iopub.status.busy": "2024-04-20T20:04:48.916993Z",
     "iopub.status.idle": "2024-04-20T20:04:49.097754Z",
     "shell.execute_reply": "2024-04-20T20:04:49.096486Z"
    },
    "papermill": {
     "duration": 0.290611,
     "end_time": "2024-04-20T20:04:49.101615",
     "exception": false,
     "start_time": "2024-04-20T20:04:48.811004",
     "status": "completed"
    },
    "tags": []
   },
   "outputs": [
    {
     "name": "stdout",
     "output_type": "stream",
     "text": [
      "Metrics for each class:\n",
      "   Precision    Recall  F1 Score  Support\n",
      "0   0.792683  0.580357  0.670103      112\n",
      "1   0.000000  0.000000  0.000000      111\n",
      "2   0.964286  0.658537  0.782609       82\n",
      "3   0.857143  0.163636  0.274809      110\n",
      "4   0.070423  0.044643  0.054645      112\n",
      "5   1.000000  0.522523  0.686391      111\n",
      "6   0.144578  0.120000  0.131148      100\n",
      "7   0.947368  0.162162  0.276923      111\n",
      "8   0.187243  0.866667  0.307953      105\n",
      "9   0.589041  0.387387  0.467391      111\n"
     ]
    }
   ],
   "source": [
    "# Predicting on the test data\n",
    "y_pred = mlp_clust_100.predict(x_test)\n",
    "\n",
    "# Calculate precision, recall, and F1 score for each class\n",
    "precision, recall, f1_score, support = precision_recall_fscore_support(y_test_onehot, y_pred)\n",
    "results_df = pd.DataFrame({'Precision': precision,\n",
    "                           'Recall': recall,\n",
    "                           'F1 Score': f1_score,\n",
    "                           'Support': support},\n",
    "                          index=range(len(precision)))\n",
    "\n",
    "print(\"Metrics for each class:\")\n",
    "print(results_df)"
   ]
  },
  {
   "cell_type": "markdown",
   "id": "44e6c715",
   "metadata": {
    "papermill": {
     "duration": 0.085679,
     "end_time": "2024-04-20T20:04:49.323321",
     "exception": false,
     "start_time": "2024-04-20T20:04:49.237642",
     "status": "completed"
    },
    "tags": []
   },
   "source": [
    "# Propagate the clustering to 20% images near to centroid"
   ]
  },
  {
   "cell_type": "code",
   "execution_count": 9,
   "id": "7c63c595",
   "metadata": {
    "execution": {
     "iopub.execute_input": "2024-04-20T20:04:49.497626Z",
     "iopub.status.busy": "2024-04-20T20:04:49.497161Z",
     "iopub.status.idle": "2024-04-20T20:04:49.514990Z",
     "shell.execute_reply": "2024-04-20T20:04:49.513721Z"
    },
    "papermill": {
     "duration": 0.109036,
     "end_time": "2024-04-20T20:04:49.517568",
     "exception": false,
     "start_time": "2024-04-20T20:04:49.408532",
     "status": "completed"
    },
    "tags": []
   },
   "outputs": [
    {
     "data": {
      "text/plain": [
       "((1591, 784), (1591, 10))"
      ]
     },
     "execution_count": 9,
     "metadata": {},
     "output_type": "execute_result"
    }
   ],
   "source": [
    "# Taking 20% of images which are near to the centroids\n",
    "clust_prc = 0.20\n",
    "x_train_clust_20 = np.vstack([clust[:int(clust.shape[0]*clust_prc), :] for clust in x_train_clust])\n",
    "y_train_clust_20 = np.hstack([np.array([y_train_clust[i]]*int(len(x_train_clust[i])*clust_prc), dtype=int) for i in range(len(x_train_clust))])\n",
    "\n",
    "# Changing into onehot vector\n",
    "y_train_clust_20_onehot = np.eye(len(classes))[y_train_clust_20]\n",
    "x_train_clust_20.shape, y_train_clust_20_onehot.shape"
   ]
  },
  {
   "cell_type": "code",
   "execution_count": 39,
   "id": "f4179281",
   "metadata": {
    "collapsed": true,
    "execution": {
     "iopub.execute_input": "2024-04-20T20:04:49.692918Z",
     "iopub.status.busy": "2024-04-20T20:04:49.692484Z",
     "iopub.status.idle": "2024-04-20T20:25:27.832811Z",
     "shell.execute_reply": "2024-04-20T20:25:27.830872Z"
    },
    "jupyter": {
     "outputs_hidden": true
    },
    "papermill": {
     "duration": 1238.23404,
     "end_time": "2024-04-20T20:25:27.837787",
     "exception": false,
     "start_time": "2024-04-20T20:04:49.603747",
     "status": "completed"
    },
    "tags": []
   },
   "outputs": [],
   "source": [
    "# Variables to track the time and momory used by the model\n",
    "s = time.time()\n",
    "memBS = process.memory_info().rss\n",
    "\n",
    "# Hyper Parameters to tune\n",
    "param_grid = {\n",
    "    'hidden_layer_sizes': [(256,256,128,128,64,64),\n",
    "                           (256,256,128,128,64,64,64),\n",
    "                           (256,256,256,128,128,64,64),\n",
    "                           (256,256,256,128,128,128,64,64),\n",
    "                           (256,256,128,128,64,64,64,32),\n",
    "                           (256,256,128,128,64,64,64,32,32)],\n",
    "    'activation': ['logistic', 'tanh', 'relu'],\n",
    "    'max_iter': [100,120,140,160,180]\n",
    "}\n",
    "\n",
    "# Hyper-Parameter tunning using GridSearchCV\n",
    "mlp = MLPClassifier(random_state = 42, early_stopping=False)\n",
    "mlp_clust_20 = GridSearchCV(estimator=mlp, param_grid=param_grid, n_jobs=-1, cv=3, scoring='accuracy')\n",
    "mlp_clust_20.fit(x_train_clust_20, y_train_clust_20_onehot)\n",
    "\n",
    "# Variables to track the time and momory used by the model\n",
    "e = time.time()\n",
    "memAF = process.memory_info().rss"
   ]
  },
  {
   "cell_type": "code",
   "execution_count": 42,
   "id": "01a5c2d8",
   "metadata": {
    "execution": {
     "iopub.execute_input": "2024-04-20T20:25:28.077387Z",
     "iopub.status.busy": "2024-04-20T20:25:28.076123Z",
     "iopub.status.idle": "2024-04-20T20:25:28.157612Z",
     "shell.execute_reply": "2024-04-20T20:25:28.155944Z"
    },
    "papermill": {
     "duration": 0.179816,
     "end_time": "2024-04-20T20:25:28.162898",
     "exception": false,
     "start_time": "2024-04-20T20:25:27.983082",
     "status": "completed"
    },
    "tags": []
   },
   "outputs": [
    {
     "name": "stdout",
     "output_type": "stream",
     "text": [
      "Time taken in training: 1668.98 sec\n",
      "Memory taken in training: 11972.0 MB\n",
      "Accuracy on testing dataset: 34.08%\n"
     ]
    },
    {
     "data": {
      "text/plain": [
       "{'hidden_layer_sizes': (256, 256, 256, 128, 128, 64, 64), 'max_iter': 120}"
      ]
     },
     "execution_count": 42,
     "metadata": {},
     "output_type": "execute_result"
    }
   ],
   "source": [
    "# Printing time, memory taken by the model and accuracy on the test data\n",
    "print(f\"Time taken in training: {round(e-s, 2)} sec\")\n",
    "print(f\"Memory taken in training: {round((memAF-memBS)/1024, 2)} MB\")\n",
    "print(f\"Accuracy on testing dataset: {mlp_clust_20.score(x_test.values, y_test_onehot)*100:.2f}%\")\n",
    "mlp_clust_20.best_params_"
   ]
  },
  {
   "cell_type": "code",
   "execution_count": 38,
   "id": "af3032cc",
   "metadata": {
    "execution": {
     "iopub.execute_input": "2024-04-20T20:25:28.402168Z",
     "iopub.status.busy": "2024-04-20T20:25:28.401718Z",
     "iopub.status.idle": "2024-04-20T20:25:28.515375Z",
     "shell.execute_reply": "2024-04-20T20:25:28.514152Z"
    },
    "papermill": {
     "duration": 0.211166,
     "end_time": "2024-04-20T20:25:28.519330",
     "exception": false,
     "start_time": "2024-04-20T20:25:28.308164",
     "status": "completed"
    },
    "tags": []
   },
   "outputs": [
    {
     "name": "stdout",
     "output_type": "stream",
     "text": [
      "Metrics for each class:\n",
      "   Precision    Recall  F1 Score  Support\n",
      "0   0.466258  0.678571  0.552727      112\n",
      "1   0.461538  0.054054  0.096774      111\n",
      "2   0.958333  0.560976  0.707692       82\n",
      "3   0.863636  0.172727  0.287879      110\n",
      "4   0.076923  0.008929  0.016000      112\n",
      "5   0.964912  0.495495  0.654762      111\n",
      "6   0.156977  0.270000  0.198529      100\n",
      "7   0.941176  0.144144  0.250000      111\n",
      "8   0.173448  0.771429  0.283217      105\n",
      "9   0.795455  0.315315  0.451613      111\n"
     ]
    }
   ],
   "source": [
    "# Predicting on the test data\n",
    "y_pred = mlp_clust_20.predict(x_test)\n",
    "\n",
    "# Calculate precision, recall, and F1 score for each class\n",
    "precision, recall, f1_score, support = precision_recall_fscore_support(y_test_onehot, y_pred)\n",
    "results_df = pd.DataFrame({'Precision': precision,\n",
    "                           'Recall': recall,\n",
    "                           'F1 Score': f1_score,\n",
    "                           'Support': support},\n",
    "                          index=range(len(precision)))\n",
    "\n",
    "print(\"Metrics for each class:\")\n",
    "print(results_df)"
   ]
  },
  {
   "cell_type": "code",
   "execution_count": null,
   "id": "24f5fb69",
   "metadata": {
    "papermill": {
     "duration": 0.092568,
     "end_time": "2024-04-20T20:25:28.750627",
     "exception": false,
     "start_time": "2024-04-20T20:25:28.658059",
     "status": "completed"
    },
    "tags": []
   },
   "outputs": [],
   "source": []
  }
 ],
 "metadata": {
  "kaggle": {
   "accelerator": "none",
   "dataSources": [
    {
     "datasetId": 1114582,
     "sourceId": 1919274,
     "sourceType": "datasetVersion"
    }
   ],
   "dockerImageVersionId": 30684,
   "isGpuEnabled": false,
   "isInternetEnabled": false,
   "language": "python",
   "sourceType": "notebook"
  },
  "kernelspec": {
   "display_name": "Python 3",
   "language": "python",
   "name": "python3"
  },
  "language_info": {
   "codemirror_mode": {
    "name": "ipython",
    "version": 3
   },
   "file_extension": ".py",
   "mimetype": "text/x-python",
   "name": "python",
   "nbconvert_exporter": "python",
   "pygments_lexer": "ipython3",
   "version": "3.11.5"
  },
  "papermill": {
   "default_parameters": {},
   "duration": 16520.841806,
   "end_time": "2024-04-20T20:25:31.507574",
   "environment_variables": {},
   "exception": null,
   "input_path": "__notebook__.ipynb",
   "output_path": "__notebook__.ipynb",
   "parameters": {},
   "start_time": "2024-04-20T15:50:10.665768",
   "version": "2.5.0"
  }
 },
 "nbformat": 4,
 "nbformat_minor": 5
}
